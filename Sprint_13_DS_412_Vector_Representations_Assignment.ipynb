{
  "cells": [
    {
      "cell_type": "markdown",
      "metadata": {
        "id": "XY_oGN5FN_LJ"
      },
      "source": [
        "\n",
        "# Vector Representations\n",
        "## *Data Science Unit 4 Sprint 1 Assignment 2*"
      ]
    },
    {
      "cell_type": "markdown",
      "metadata": {
        "id": "c8TVTlaib3fn"
      },
      "source": [
        "## 0.1 Get `spacy`"
      ]
    },
    {
      "cell_type": "code",
      "execution_count": 1,
      "metadata": {
        "colab": {
          "base_uri": "https://localhost:8080/"
        },
        "id": "d3hQQfu2im3f",
        "outputId": "d18396c0-8c4a-44bb-9514-afe1d0f3494b"
      },
      "outputs": [
        {
          "output_type": "stream",
          "name": "stdout",
          "text": [
            "/usr/local/lib/python3.8/dist-packages/torch/cuda/__init__.py:497: UserWarning: Can't initialize NVML\n",
            "  warnings.warn(\"Can't initialize NVML\")\n",
            "2023-02-27 05:00:46.357951: I tensorflow/core/platform/cpu_feature_guard.cc:193] This TensorFlow binary is optimized with oneAPI Deep Neural Network Library (oneDNN) to use the following CPU instructions in performance-critical operations:  AVX2 FMA\n",
            "To enable them in other operations, rebuild TensorFlow with the appropriate compiler flags.\n",
            "2023-02-27 05:00:48.923241: W tensorflow/compiler/xla/stream_executor/platform/default/dso_loader.cc:64] Could not load dynamic library 'libnvinfer.so.7'; dlerror: libnvinfer.so.7: cannot open shared object file: No such file or directory; LD_LIBRARY_PATH: /usr/local/nvidia/lib:/usr/local/nvidia/lib64\n",
            "2023-02-27 05:00:48.923427: W tensorflow/compiler/xla/stream_executor/platform/default/dso_loader.cc:64] Could not load dynamic library 'libnvinfer_plugin.so.7'; dlerror: libnvinfer_plugin.so.7: cannot open shared object file: No such file or directory; LD_LIBRARY_PATH: /usr/local/nvidia/lib:/usr/local/nvidia/lib64\n",
            "2023-02-27 05:00:48.923455: W tensorflow/compiler/tf2tensorrt/utils/py_utils.cc:38] TF-TRT Warning: Cannot dlopen some TensorRT libraries. If you would like to use Nvidia GPU with TensorRT, please make sure the missing libraries mentioned above are installed properly.\n",
            "2023-02-27 05:00:54.243045: E tensorflow/compiler/xla/stream_executor/cuda/cuda_driver.cc:267] failed call to cuInit: CUDA_ERROR_NO_DEVICE: no CUDA-capable device is detected\n",
            "Looking in indexes: https://pypi.org/simple, https://us-python.pkg.dev/colab-wheels/public/simple/\n",
            "Collecting en-core-web-md==3.4.1\n",
            "  Downloading https://github.com/explosion/spacy-models/releases/download/en_core_web_md-3.4.1/en_core_web_md-3.4.1-py3-none-any.whl (42.8 MB)\n",
            "\u001b[2K     \u001b[90m━━━━━━━━━━━━━━━━━━━━━━━━━━━━━━━━━━━━━━━━\u001b[0m \u001b[32m42.8/42.8 MB\u001b[0m \u001b[31m6.7 MB/s\u001b[0m eta \u001b[36m0:00:00\u001b[0m\n",
            "\u001b[?25hRequirement already satisfied: spacy<3.5.0,>=3.4.0 in /usr/local/lib/python3.8/dist-packages (from en-core-web-md==3.4.1) (3.4.4)\n",
            "Requirement already satisfied: langcodes<4.0.0,>=3.2.0 in /usr/local/lib/python3.8/dist-packages (from spacy<3.5.0,>=3.4.0->en-core-web-md==3.4.1) (3.3.0)\n",
            "Requirement already satisfied: catalogue<2.1.0,>=2.0.6 in /usr/local/lib/python3.8/dist-packages (from spacy<3.5.0,>=3.4.0->en-core-web-md==3.4.1) (2.0.8)\n",
            "Requirement already satisfied: tqdm<5.0.0,>=4.38.0 in /usr/local/lib/python3.8/dist-packages (from spacy<3.5.0,>=3.4.0->en-core-web-md==3.4.1) (4.64.1)\n",
            "Requirement already satisfied: typer<0.8.0,>=0.3.0 in /usr/local/lib/python3.8/dist-packages (from spacy<3.5.0,>=3.4.0->en-core-web-md==3.4.1) (0.7.0)\n",
            "Requirement already satisfied: setuptools in /usr/local/lib/python3.8/dist-packages (from spacy<3.5.0,>=3.4.0->en-core-web-md==3.4.1) (57.4.0)\n",
            "Requirement already satisfied: requests<3.0.0,>=2.13.0 in /usr/local/lib/python3.8/dist-packages (from spacy<3.5.0,>=3.4.0->en-core-web-md==3.4.1) (2.25.1)\n",
            "Requirement already satisfied: packaging>=20.0 in /usr/local/lib/python3.8/dist-packages (from spacy<3.5.0,>=3.4.0->en-core-web-md==3.4.1) (23.0)\n",
            "Requirement already satisfied: spacy-legacy<3.1.0,>=3.0.10 in /usr/local/lib/python3.8/dist-packages (from spacy<3.5.0,>=3.4.0->en-core-web-md==3.4.1) (3.0.12)\n",
            "Requirement already satisfied: spacy-loggers<2.0.0,>=1.0.0 in /usr/local/lib/python3.8/dist-packages (from spacy<3.5.0,>=3.4.0->en-core-web-md==3.4.1) (1.0.4)\n",
            "Requirement already satisfied: pathy>=0.3.5 in /usr/local/lib/python3.8/dist-packages (from spacy<3.5.0,>=3.4.0->en-core-web-md==3.4.1) (0.10.1)\n",
            "Requirement already satisfied: preshed<3.1.0,>=3.0.2 in /usr/local/lib/python3.8/dist-packages (from spacy<3.5.0,>=3.4.0->en-core-web-md==3.4.1) (3.0.8)\n",
            "Requirement already satisfied: numpy>=1.15.0 in /usr/local/lib/python3.8/dist-packages (from spacy<3.5.0,>=3.4.0->en-core-web-md==3.4.1) (1.22.4)\n",
            "Requirement already satisfied: pydantic!=1.8,!=1.8.1,<1.11.0,>=1.7.4 in /usr/local/lib/python3.8/dist-packages (from spacy<3.5.0,>=3.4.0->en-core-web-md==3.4.1) (1.10.5)\n",
            "Requirement already satisfied: cymem<2.1.0,>=2.0.2 in /usr/local/lib/python3.8/dist-packages (from spacy<3.5.0,>=3.4.0->en-core-web-md==3.4.1) (2.0.7)\n",
            "Requirement already satisfied: wasabi<1.1.0,>=0.9.1 in /usr/local/lib/python3.8/dist-packages (from spacy<3.5.0,>=3.4.0->en-core-web-md==3.4.1) (0.10.1)\n",
            "Requirement already satisfied: thinc<8.2.0,>=8.1.0 in /usr/local/lib/python3.8/dist-packages (from spacy<3.5.0,>=3.4.0->en-core-web-md==3.4.1) (8.1.7)\n",
            "Requirement already satisfied: jinja2 in /usr/local/lib/python3.8/dist-packages (from spacy<3.5.0,>=3.4.0->en-core-web-md==3.4.1) (2.11.3)\n",
            "Requirement already satisfied: murmurhash<1.1.0,>=0.28.0 in /usr/local/lib/python3.8/dist-packages (from spacy<3.5.0,>=3.4.0->en-core-web-md==3.4.1) (1.0.9)\n",
            "Requirement already satisfied: smart-open<7.0.0,>=5.2.1 in /usr/local/lib/python3.8/dist-packages (from spacy<3.5.0,>=3.4.0->en-core-web-md==3.4.1) (6.3.0)\n",
            "Requirement already satisfied: srsly<3.0.0,>=2.4.3 in /usr/local/lib/python3.8/dist-packages (from spacy<3.5.0,>=3.4.0->en-core-web-md==3.4.1) (2.4.5)\n",
            "Requirement already satisfied: typing-extensions>=4.2.0 in /usr/local/lib/python3.8/dist-packages (from pydantic!=1.8,!=1.8.1,<1.11.0,>=1.7.4->spacy<3.5.0,>=3.4.0->en-core-web-md==3.4.1) (4.5.0)\n",
            "Requirement already satisfied: chardet<5,>=3.0.2 in /usr/local/lib/python3.8/dist-packages (from requests<3.0.0,>=2.13.0->spacy<3.5.0,>=3.4.0->en-core-web-md==3.4.1) (4.0.0)\n",
            "Requirement already satisfied: certifi>=2017.4.17 in /usr/local/lib/python3.8/dist-packages (from requests<3.0.0,>=2.13.0->spacy<3.5.0,>=3.4.0->en-core-web-md==3.4.1) (2022.12.7)\n",
            "Requirement already satisfied: idna<3,>=2.5 in /usr/local/lib/python3.8/dist-packages (from requests<3.0.0,>=2.13.0->spacy<3.5.0,>=3.4.0->en-core-web-md==3.4.1) (2.10)\n",
            "Requirement already satisfied: urllib3<1.27,>=1.21.1 in /usr/local/lib/python3.8/dist-packages (from requests<3.0.0,>=2.13.0->spacy<3.5.0,>=3.4.0->en-core-web-md==3.4.1) (1.24.3)\n",
            "Requirement already satisfied: blis<0.8.0,>=0.7.8 in /usr/local/lib/python3.8/dist-packages (from thinc<8.2.0,>=8.1.0->spacy<3.5.0,>=3.4.0->en-core-web-md==3.4.1) (0.7.9)\n",
            "Requirement already satisfied: confection<1.0.0,>=0.0.1 in /usr/local/lib/python3.8/dist-packages (from thinc<8.2.0,>=8.1.0->spacy<3.5.0,>=3.4.0->en-core-web-md==3.4.1) (0.0.4)\n",
            "Requirement already satisfied: click<9.0.0,>=7.1.1 in /usr/local/lib/python3.8/dist-packages (from typer<0.8.0,>=0.3.0->spacy<3.5.0,>=3.4.0->en-core-web-md==3.4.1) (7.1.2)\n",
            "Requirement already satisfied: MarkupSafe>=0.23 in /usr/local/lib/python3.8/dist-packages (from jinja2->spacy<3.5.0,>=3.4.0->en-core-web-md==3.4.1) (2.0.1)\n",
            "Installing collected packages: en-core-web-md\n",
            "Successfully installed en-core-web-md-3.4.1\n",
            "\u001b[38;5;2m✔ Download and installation successful\u001b[0m\n",
            "You can now load the package via spacy.load('en_core_web_md')\n",
            "CPU times: user 348 ms, sys: 52.4 ms, total: 401 ms\n",
            "Wall time: 37.9 s\n"
          ]
        }
      ],
      "source": [
        "%%time\n",
        "# Download en_core+web_md spacy package\n",
        "!python -m spacy download en_core_web_md"
      ]
    },
    {
      "cell_type": "markdown",
      "metadata": {
        "id": "Ffkb2MnJb-9l"
      },
      "source": [
        "##0.2 Restart Runtime"
      ]
    },
    {
      "cell_type": "markdown",
      "metadata": {
        "id": "Umr3z-gWcgKK"
      },
      "source": [
        "## 0.3 Imports"
      ]
    },
    {
      "cell_type": "code",
      "execution_count": 1,
      "metadata": {
        "colab": {
          "base_uri": "https://localhost:8080/"
        },
        "id": "DDmYaIQ38OQ1",
        "outputId": "76a5bf82-ad9d-4aef-da4b-a0967a01e209"
      },
      "outputs": [
        {
          "output_type": "stream",
          "name": "stderr",
          "text": [
            "/usr/local/lib/python3.8/dist-packages/torch/cuda/__init__.py:497: UserWarning: Can't initialize NVML\n",
            "  warnings.warn(\"Can't initialize NVML\")\n"
          ]
        }
      ],
      "source": [
        "import re\n",
        "import string\n",
        "\n",
        "from sklearn.feature_extraction.text import CountVectorizer, TfidfVectorizer\n",
        "from sklearn.neighbors import NearestNeighbors\n",
        "\n",
        "import matplotlib.pyplot as plt\n",
        "import pandas as pd\n",
        "import numpy as np\n",
        "\n",
        "from bs4 import BeautifulSoup #helps with text processing\n",
        "\n",
        "%matplotlib inline\n",
        "\n",
        "import spacy\n",
        "nlp = spacy.load(\"en_core_web_md\") #load the medium model"
      ]
    },
    {
      "cell_type": "markdown",
      "metadata": {
        "id": "55skIZ7eidH7"
      },
      "source": [
        "##0.4 Clone the git repo\n",
        "so we can access the files in the `/data` folder"
      ]
    },
    {
      "cell_type": "code",
      "execution_count": 2,
      "metadata": {
        "colab": {
          "base_uri": "https://localhost:8080/"
        },
        "id": "kpgi5SBuePAD",
        "outputId": "7ee17e7f-0803-4dcf-f003-2753c7593259"
      },
      "outputs": [
        {
          "output_type": "stream",
          "name": "stdout",
          "text": [
            "Cloning into 'DS-Unit-4-Sprint-1-NLP'...\n",
            "remote: Enumerating objects: 1693, done.\u001b[K\n",
            "remote: Counting objects: 100% (162/162), done.\u001b[K\n",
            "remote: Compressing objects: 100% (90/90), done.\u001b[K\n",
            "remote: Total 1693 (delta 89), reused 124 (delta 72), pack-reused 1531\u001b[K\n",
            "Receiving objects: 100% (1693/1693), 59.40 MiB | 20.26 MiB/s, done.\n",
            "Resolving deltas: 100% (258/258), done.\n"
          ]
        }
      ],
      "source": [
        "!git clone https://github.com/LambdaSchool/DS-Unit-4-Sprint-1-NLP.git\n"
      ]
    },
    {
      "cell_type": "markdown",
      "metadata": {
        "id": "M7bcmqfGXrFG"
      },
      "source": [
        "## 1) Clean the Job Listings from indeed.com that contain the title \"Data Scientist\" \n",
        "\n",
        "The file `job_listings.csv` is in the `data` folder for this module. <br>\n",
        "Navigate to the `data` folder in the `DS-Unit-4-Sprint-1-NLP` folder icon in the left sidebar. \n",
        "Find the path to `job_listings.csv` (all the way at the bottom of the list of files in `data`), by clicking on the \"three dots\" symbol to the right of its file icon."
      ]
    },
    {
      "cell_type": "code",
      "execution_count": 3,
      "metadata": {
        "id": "KcYlc1URXhlC",
        "scrolled": true
      },
      "outputs": [],
      "source": [
        "data_path = '/content/DS-Unit-4-Sprint-1-NLP/module2-vector-representations/data/job_listings.csv'         \n",
        "df = pd.read_csv(data_path)"
      ]
    },
    {
      "cell_type": "code",
      "execution_count": 4,
      "metadata": {
        "colab": {
          "base_uri": "https://localhost:8080/",
          "height": 206
        },
        "id": "9VIxuiRvmTUN",
        "outputId": "94bb19b6-65ec-48bd-b4ff-1535472e1b44"
      },
      "outputs": [
        {
          "output_type": "execute_result",
          "data": {
            "text/plain": [
              "   Unnamed: 0                                        description  \\\n",
              "0           0  b\"<div><div>Job Requirements:</div><ul><li><p>...   \n",
              "1           1  b'<div>Job Description<br/>\\n<br/>\\n<p>As a Da...   \n",
              "2           2  b'<div><p>As a Data Scientist you will be work...   \n",
              "3           3  b'<div class=\"jobsearch-JobMetadataHeader icl-...   \n",
              "4           4  b'<ul><li>Location: USA \\xe2\\x80\\x93 multiple ...   \n",
              "\n",
              "                          title  \n",
              "0               Data scientist   \n",
              "1              Data Scientist I  \n",
              "2  Data Scientist - Entry Level  \n",
              "3                Data Scientist  \n",
              "4                Data Scientist  "
            ],
            "text/html": [
              "\n",
              "  <div id=\"df-4544179d-74c6-4aa1-80ef-32596e8736d8\">\n",
              "    <div class=\"colab-df-container\">\n",
              "      <div>\n",
              "<style scoped>\n",
              "    .dataframe tbody tr th:only-of-type {\n",
              "        vertical-align: middle;\n",
              "    }\n",
              "\n",
              "    .dataframe tbody tr th {\n",
              "        vertical-align: top;\n",
              "    }\n",
              "\n",
              "    .dataframe thead th {\n",
              "        text-align: right;\n",
              "    }\n",
              "</style>\n",
              "<table border=\"1\" class=\"dataframe\">\n",
              "  <thead>\n",
              "    <tr style=\"text-align: right;\">\n",
              "      <th></th>\n",
              "      <th>Unnamed: 0</th>\n",
              "      <th>description</th>\n",
              "      <th>title</th>\n",
              "    </tr>\n",
              "  </thead>\n",
              "  <tbody>\n",
              "    <tr>\n",
              "      <th>0</th>\n",
              "      <td>0</td>\n",
              "      <td>b\"&lt;div&gt;&lt;div&gt;Job Requirements:&lt;/div&gt;&lt;ul&gt;&lt;li&gt;&lt;p&gt;...</td>\n",
              "      <td>Data scientist</td>\n",
              "    </tr>\n",
              "    <tr>\n",
              "      <th>1</th>\n",
              "      <td>1</td>\n",
              "      <td>b'&lt;div&gt;Job Description&lt;br/&gt;\\n&lt;br/&gt;\\n&lt;p&gt;As a Da...</td>\n",
              "      <td>Data Scientist I</td>\n",
              "    </tr>\n",
              "    <tr>\n",
              "      <th>2</th>\n",
              "      <td>2</td>\n",
              "      <td>b'&lt;div&gt;&lt;p&gt;As a Data Scientist you will be work...</td>\n",
              "      <td>Data Scientist - Entry Level</td>\n",
              "    </tr>\n",
              "    <tr>\n",
              "      <th>3</th>\n",
              "      <td>3</td>\n",
              "      <td>b'&lt;div class=\"jobsearch-JobMetadataHeader icl-...</td>\n",
              "      <td>Data Scientist</td>\n",
              "    </tr>\n",
              "    <tr>\n",
              "      <th>4</th>\n",
              "      <td>4</td>\n",
              "      <td>b'&lt;ul&gt;&lt;li&gt;Location: USA \\xe2\\x80\\x93 multiple ...</td>\n",
              "      <td>Data Scientist</td>\n",
              "    </tr>\n",
              "  </tbody>\n",
              "</table>\n",
              "</div>\n",
              "      <button class=\"colab-df-convert\" onclick=\"convertToInteractive('df-4544179d-74c6-4aa1-80ef-32596e8736d8')\"\n",
              "              title=\"Convert this dataframe to an interactive table.\"\n",
              "              style=\"display:none;\">\n",
              "        \n",
              "  <svg xmlns=\"http://www.w3.org/2000/svg\" height=\"24px\"viewBox=\"0 0 24 24\"\n",
              "       width=\"24px\">\n",
              "    <path d=\"M0 0h24v24H0V0z\" fill=\"none\"/>\n",
              "    <path d=\"M18.56 5.44l.94 2.06.94-2.06 2.06-.94-2.06-.94-.94-2.06-.94 2.06-2.06.94zm-11 1L8.5 8.5l.94-2.06 2.06-.94-2.06-.94L8.5 2.5l-.94 2.06-2.06.94zm10 10l.94 2.06.94-2.06 2.06-.94-2.06-.94-.94-2.06-.94 2.06-2.06.94z\"/><path d=\"M17.41 7.96l-1.37-1.37c-.4-.4-.92-.59-1.43-.59-.52 0-1.04.2-1.43.59L10.3 9.45l-7.72 7.72c-.78.78-.78 2.05 0 2.83L4 21.41c.39.39.9.59 1.41.59.51 0 1.02-.2 1.41-.59l7.78-7.78 2.81-2.81c.8-.78.8-2.07 0-2.86zM5.41 20L4 18.59l7.72-7.72 1.47 1.35L5.41 20z\"/>\n",
              "  </svg>\n",
              "      </button>\n",
              "      \n",
              "  <style>\n",
              "    .colab-df-container {\n",
              "      display:flex;\n",
              "      flex-wrap:wrap;\n",
              "      gap: 12px;\n",
              "    }\n",
              "\n",
              "    .colab-df-convert {\n",
              "      background-color: #E8F0FE;\n",
              "      border: none;\n",
              "      border-radius: 50%;\n",
              "      cursor: pointer;\n",
              "      display: none;\n",
              "      fill: #1967D2;\n",
              "      height: 32px;\n",
              "      padding: 0 0 0 0;\n",
              "      width: 32px;\n",
              "    }\n",
              "\n",
              "    .colab-df-convert:hover {\n",
              "      background-color: #E2EBFA;\n",
              "      box-shadow: 0px 1px 2px rgba(60, 64, 67, 0.3), 0px 1px 3px 1px rgba(60, 64, 67, 0.15);\n",
              "      fill: #174EA6;\n",
              "    }\n",
              "\n",
              "    [theme=dark] .colab-df-convert {\n",
              "      background-color: #3B4455;\n",
              "      fill: #D2E3FC;\n",
              "    }\n",
              "\n",
              "    [theme=dark] .colab-df-convert:hover {\n",
              "      background-color: #434B5C;\n",
              "      box-shadow: 0px 1px 3px 1px rgba(0, 0, 0, 0.15);\n",
              "      filter: drop-shadow(0px 1px 2px rgba(0, 0, 0, 0.3));\n",
              "      fill: #FFFFFF;\n",
              "    }\n",
              "  </style>\n",
              "\n",
              "      <script>\n",
              "        const buttonEl =\n",
              "          document.querySelector('#df-4544179d-74c6-4aa1-80ef-32596e8736d8 button.colab-df-convert');\n",
              "        buttonEl.style.display =\n",
              "          google.colab.kernel.accessAllowed ? 'block' : 'none';\n",
              "\n",
              "        async function convertToInteractive(key) {\n",
              "          const element = document.querySelector('#df-4544179d-74c6-4aa1-80ef-32596e8736d8');\n",
              "          const dataTable =\n",
              "            await google.colab.kernel.invokeFunction('convertToInteractive',\n",
              "                                                     [key], {});\n",
              "          if (!dataTable) return;\n",
              "\n",
              "          const docLinkHtml = 'Like what you see? Visit the ' +\n",
              "            '<a target=\"_blank\" href=https://colab.research.google.com/notebooks/data_table.ipynb>data table notebook</a>'\n",
              "            + ' to learn more about interactive tables.';\n",
              "          element.innerHTML = '';\n",
              "          dataTable['output_type'] = 'display_data';\n",
              "          await google.colab.output.renderOutput(dataTable, element);\n",
              "          const docLink = document.createElement('div');\n",
              "          docLink.innerHTML = docLinkHtml;\n",
              "          element.appendChild(docLink);\n",
              "        }\n",
              "      </script>\n",
              "    </div>\n",
              "  </div>\n",
              "  "
            ]
          },
          "metadata": {},
          "execution_count": 4
        }
      ],
      "source": [
        "df.head()"
      ]
    },
    {
      "cell_type": "code",
      "execution_count": 5,
      "metadata": {
        "colab": {
          "base_uri": "https://localhost:8080/"
        },
        "id": "JY6b88djrK0Z",
        "outputId": "3d59a7b0-0377-4bc7-ec0f-609b9adf26c1"
      },
      "outputs": [
        {
          "output_type": "execute_result",
          "data": {
            "text/plain": [
              "(426, 3)"
            ]
          },
          "metadata": {},
          "execution_count": 5
        }
      ],
      "source": [
        "df.shape"
      ]
    },
    {
      "cell_type": "code",
      "execution_count": 6,
      "metadata": {
        "colab": {
          "base_uri": "https://localhost:8080/",
          "height": 123
        },
        "id": "aAirMo2bmmQQ",
        "outputId": "b363620d-b328-46e1-ebcb-ff711b20725b"
      },
      "outputs": [
        {
          "output_type": "execute_result",
          "data": {
            "text/plain": [
              "'b\"<div><div>Job Requirements:</div><ul><li><p>\\\\nConceptual understanding in Machine Learning models like Nai\\\\xc2\\\\xa8ve Bayes, K-Means, SVM, Apriori, Linear/ Logistic Regression, Neural, Random Forests, Decision Trees, K-NN along with hands-on experience in at least 2 of them</p>\\\\n</li><li><p>Intermediate to expert level coding skills in Python/R. (Ability to write functions, clean and efficient data manipulation are mandatory for this role)</p>\\\\n</li><li><p>Exposure to packages like NumPy, SciPy, Pandas, Matplotlib etc in Python or GGPlot2, dplyr, tidyR in R</p>\\\\n</li><li><p>Ability to communicate Model findings to both Technical and Non-Technical stake holders</p>\\\\n</li><li><p>Hands on experience in SQL/Hive or similar programming language</p>\\\\n</li><li><p>Must show past work via GitHub, Kaggle or any other published article</p>\\\\n</li><li><p>Master\\'s degree in Statistics/Mathematics/Computer Science or any other quant specific field.</p></li></ul><div><div><div><div><div><div>\\\\nApply Now</div></div></div></div></div></div></div><div></div>\"'"
            ],
            "application/vnd.google.colaboratory.intrinsic+json": {
              "type": "string"
            }
          },
          "metadata": {},
          "execution_count": 6
        }
      ],
      "source": [
        "df.description[0]"
      ]
    },
    {
      "cell_type": "markdown",
      "metadata": {
        "id": "TfNxBcV0dCuZ"
      },
      "source": [
        "### Remove `HTML tags`\n",
        "\n",
        "The text data in the description column is messy - it's full of html tags! <br>\n",
        "Use the [`BeautifulSoup`](https://www.crummy.com/software/BeautifulSoup/bs4/doc/) library to clean up this column by removing html tags. <br>\n",
        "* You will need to read through the `BeautifulSoup` documentation to accomplish this task. <br>\n",
        "* As with any library, there is lots of documentation, but read only what you need! \n",
        "* Don't spend more time than it takes to figure out how to remove html tags! \n"
      ]
    },
    {
      "cell_type": "code",
      "execution_count": 7,
      "metadata": {
        "id": "MUjsR6kCN_LO"
      },
      "outputs": [],
      "source": [
        "def remove_html(text):\n",
        "    \"\"\"\n",
        "    Extract text from html boiler plate code. \n",
        "    Converts bytes dtype into str dtype\n",
        "    \n",
        "    Note\n",
        "    ----\n",
        "    Use the regex editor to help you create regular expressions https://regex101.com/\n",
        "    \n",
        "    Parameters\n",
        "    ----------\n",
        "    text: string or object \n",
        "        contains text data that we want to clean\n",
        "    \n",
        "    Returns \n",
        "    -------\n",
        "    text: str \n",
        "        cleaned text data ready for vectorization\n",
        "    \"\"\"\n",
        "    \n",
        "    # create soup object \n",
        "    soup = BeautifulSoup(text, 'html.parser')\n",
        "    \n",
        "    # extract text from page using beautiful soup\n",
        "    # eval will strip off whatever datatype or expression that's inside of a string \n",
        "    #    see https://docs.python.org/3/library/functions.html#eval for eval docs\n",
        "    text =  eval(soup.get_text()) #eval tries to evaluate the contents of the string as Python code\n",
        "    \n",
        "    # if text is a byte data type, then convert to string \n",
        "    if isinstance(text, bytes):\n",
        "        \n",
        "        # convert byte data type into str\n",
        "        text = text.decode('utf-8')\n",
        "        \n",
        "    \n",
        "    # use regex to clean your text data\n",
        "    ###BEGIN SOLUTION\n",
        "    # match sequences of non-alpha characters and replace each with a single whitespace character\n",
        "    text = re.sub('[^a-zA-Z]', ' ', text)\n",
        "    ###END SOLUTION\n",
        "    \n",
        "    # case normalize and strip extra white spaces on the far left and right hand side\n",
        "    text = text.lower().lstrip().rstrip()\n",
        "\n",
        "\n",
        "    return text"
      ]
    },
    {
      "cell_type": "code",
      "execution_count": 8,
      "metadata": {
        "colab": {
          "base_uri": "https://localhost:8080/",
          "height": 105
        },
        "id": "eYRRbhPMr9Wf",
        "outputId": "7e0cbf6e-ce1b-42fc-a414-1b7aea09e947"
      },
      "outputs": [
        {
          "output_type": "execute_result",
          "data": {
            "text/plain": [
              "'job requirements  conceptual understanding in machine learning models like nai ve bayes  k means  svm  apriori  linear  logistic regression  neural  random forests  decision trees  k nn along with hands on experience in at least   of them intermediate to expert level coding skills in python r   ability to write functions  clean and efficient data manipulation are mandatory for this role  exposure to packages like numpy  scipy  pandas  matplotlib etc in python or ggplot   dplyr  tidyr in r ability to communicate model findings to both technical and non technical stake holders hands on experience in sql hive or similar programming language must show past work via github  kaggle or any other published article master s degree in statistics mathematics computer science or any other quant specific field  apply now'"
            ],
            "application/vnd.google.colaboratory.intrinsic+json": {
              "type": "string"
            }
          },
          "metadata": {},
          "execution_count": 8
        }
      ],
      "source": [
        "remove_html(df.description[0])"
      ]
    },
    {
      "cell_type": "code",
      "execution_count": 9,
      "metadata": {
        "colab": {
          "base_uri": "https://localhost:8080/"
        },
        "id": "7zzQP8M7pzLA",
        "outputId": "8b66e1d8-4afa-44c5-eb2e-5971b8aace23"
      },
      "outputs": [
        {
          "output_type": "execute_result",
          "data": {
            "text/plain": [
              "str"
            ]
          },
          "metadata": {},
          "execution_count": 9
        }
      ],
      "source": [
        "type(remove_html(df.description[0]))"
      ]
    },
    {
      "cell_type": "code",
      "execution_count": 10,
      "metadata": {
        "id": "mEIAN-bIN_LQ"
      },
      "outputs": [],
      "source": [
        "df[\"clean_text\"] = df.description.apply(lambda text: remove_html(text))"
      ]
    },
    {
      "cell_type": "code",
      "execution_count": 11,
      "metadata": {
        "colab": {
          "base_uri": "https://localhost:8080/"
        },
        "id": "nsNO6j7tv43D",
        "outputId": "afd67bbd-0040-46c3-d6c4-d156af088106"
      },
      "outputs": [
        {
          "output_type": "execute_result",
          "data": {
            "text/plain": [
              "0      job requirements  conceptual understanding in ...\n",
              "1      job description  as a data scientist    you wi...\n",
              "2      as a data scientist you will be working on con...\n",
              "3      a monthcontractunder the general supervision o...\n",
              "4      location  usa   multiple locations    years of...\n",
              "                             ...                        \n",
              "421    about us  want to be part of a fantastic and f...\n",
              "422    internshipat uber  we ignite opportunity by se...\n",
              "423    a yeara million people a year die in car colli...\n",
              "424    senior data scientist job description  about u...\n",
              "425    cerner intelligence is a new  innovative organ...\n",
              "Name: clean_text, Length: 426, dtype: object"
            ]
          },
          "metadata": {},
          "execution_count": 11
        }
      ],
      "source": [
        "df.clean_text"
      ]
    },
    {
      "cell_type": "markdown",
      "metadata": {
        "id": "5C4xFZNtX1m2"
      },
      "source": [
        "## 2) Use Spacy to tokenize the listings \n",
        "Remove stop words, punctuation and spaces, and whatever else you want to remove"
      ]
    },
    {
      "cell_type": "code",
      "execution_count": 12,
      "metadata": {
        "id": "5WPJCxnQt2Tp"
      },
      "outputs": [],
      "source": [
        "## YOUR CODE HERE\n",
        "def tokenizer(text):\n",
        "    \"\"\"\n",
        "    Uses spaCy language model to tokenize text. \n",
        "    Token filters are used to exclude low quality tokens.\n",
        "     \n",
        "    Note\n",
        "    ----\n",
        "    Remember to check out the spacy docs to see which token flags are available for you to use\n",
        "    https://spacy.io/api/token\n",
        "    \n",
        "    Input\n",
        "    ----------\n",
        "    text: string\n",
        "        raw text document that needs to be tokenized\n",
        "        \n",
        "    Returns\n",
        "    -------\n",
        "    tokens: list of strings\n",
        "    \"\"\"\n",
        "    # process the raw text through the spacy language model\n",
        "    doc = nlp(text)\n",
        "\n",
        "    # create a list to store the tokens\n",
        "    tokens = []\n",
        "\n",
        "    # filter out \"low quality\" tokens\n",
        "    for token in doc:\n",
        "      if (token.is_stop != True) and (token.is_punct != True) and (token.is_space !=True) and (len(token.lemma_.strip())>1):\n",
        "        # return the lemma of the token\n",
        "        tokens.append(token.lemma_)\n",
        "\n",
        "    return tokens\n"
      ]
    },
    {
      "cell_type": "markdown",
      "metadata": {
        "id": "YM0TLvgknvfY"
      },
      "source": [
        "### Apply our tokenizer function via `pandas.apply()`"
      ]
    },
    {
      "cell_type": "code",
      "execution_count": 13,
      "metadata": {
        "id": "qfPD-_FvN_LT"
      },
      "outputs": [],
      "source": [
        "df[\"lemmas\"] = df.clean_text.apply(tokenizer)"
      ]
    },
    {
      "cell_type": "code",
      "execution_count": 14,
      "metadata": {
        "colab": {
          "base_uri": "https://localhost:8080/"
        },
        "id": "uz9KR97G3yIA",
        "outputId": "e80b7d7e-4bdb-4a55-8e36-0055b5154b2f"
      },
      "outputs": [
        {
          "output_type": "execute_result",
          "data": {
            "text/plain": [
              "0      [job, requirement, conceptual, understanding, ...\n",
              "1      [job, description, data, scientist, help, buil...\n",
              "2      [data, scientist, work, consult, business, res...\n",
              "3      [monthcontractunder, general, supervision, pro...\n",
              "4      [location, usa, multiple, location, year, anal...\n",
              "                             ...                        \n",
              "421    [want, fantastic, fun, startup, revolutionize,...\n",
              "422    [internshipat, uber, ignite, opportunity, set,...\n",
              "423    [yeara, million, people, year, die, car, colli...\n",
              "424    [senior, datum, scientist, job, description, a...\n",
              "425    [cerner, intelligence, new, innovative, organi...\n",
              "Name: lemmas, Length: 426, dtype: object"
            ]
          },
          "metadata": {},
          "execution_count": 14
        }
      ],
      "source": [
        "df[\"lemmas\"]"
      ]
    },
    {
      "cell_type": "markdown",
      "metadata": {
        "id": "-lgCZNL_YycP"
      },
      "source": [
        "## 3) Use Scikit-Learn's CountVectorizer to get word counts for each listing.\n",
        "\n",
        "- Instantiate a `CountVectorizer` object\n",
        "- Pass the tokenizer that you created above as a parameter value into `CountVectorizer`\n",
        "- Use `CountVectorizer` to create a *document-term matrix* \n",
        "- Copy your *document-term matrix* into a `pandas` dataframe, getting the column names from the `CountVectorizer` object\n",
        "- Consider using `CountVectorizer` parameters like `stop_words` and `max_df`, `min_df` to trim your results\n",
        "    \n",
        "Once you've created your `dtm` dataframe, you might notice that some (or many) of your features result from data that still needs more cleaning. Use this as an opportunity to iteratively improve your `tokenizer` function. "
      ]
    },
    {
      "cell_type": "code",
      "execution_count": 25,
      "metadata": {
        "id": "X2PZ8Pj_YxcF"
      },
      "outputs": [],
      "source": [
        "###BEGIN SOLUTION\n",
        "# COMPLETE THE CODE IN THIS CELL\n",
        "vect = CountVectorizer(tokenizer= tokenizer, \n",
        "                       stop_words='english')\n",
        "dtm_tf = vect.fit_transform(df.clean_text)\n",
        "dtm_tf = pd.DataFrame(data=dtm_tf.toarray(), columns=vect.get_feature_names_out())\n",
        "###END SOLUTION"
      ]
    },
    {
      "cell_type": "code",
      "execution_count": 28,
      "metadata": {
        "colab": {
          "base_uri": "https://localhost:8080/",
          "height": 424
        },
        "id": "K1RHQgLhDQtx",
        "outputId": "ca4d91fa-d0de-4333-b616-d57794edbd3e"
      },
      "outputs": [
        {
          "output_type": "execute_result",
          "data": {
            "text/plain": [
              "     aa  aap  ab  abernathy  ability  able  abound  abroad  absence  \\\n",
              "0     0    0   0          0        2     0       0       0        0   \n",
              "1     0    0   0          0        1     0       0       0        0   \n",
              "2     0    0   0          0        1     0       0       0        0   \n",
              "3     0    0   0          0        0     0       0       0        0   \n",
              "4     0    0   0          0        0     0       0       0        0   \n",
              "..   ..  ...  ..        ...      ...   ...     ...     ...      ...   \n",
              "421   0    0   0          0        2     0       0       0        0   \n",
              "422   0    0   0          0        0     0       0       0        0   \n",
              "423   0    0   0          0        0     0       0       0        0   \n",
              "424   0    0   0          0        0     2       0       0        0   \n",
              "425   0    0   0          0        0     0       0       0        0   \n",
              "\n",
              "     absolutely  ...  zero  zeus  zf  zheng  zillow  zogsport  zone  zoom  \\\n",
              "0             0  ...     0     0   0      0       0         0     0     0   \n",
              "1             0  ...     0     0   0      0       0         0     0     0   \n",
              "2             0  ...     0     0   0      0       0         0     0     0   \n",
              "3             0  ...     0     0   0      1       0         0     0     0   \n",
              "4             0  ...     0     0   0      0       0         0     0     0   \n",
              "..          ...  ...   ...   ...  ..    ...     ...       ...   ...   ...   \n",
              "421           0  ...     0     0   0      0       0         0     0     0   \n",
              "422           0  ...     0     0   0      0       0         0     0     0   \n",
              "423           0  ...     1     0   0      0       0         0     0     0   \n",
              "424           0  ...     0     0   0      0       0         0     0     0   \n",
              "425           0  ...     0     0   0      0       0         0     0     0   \n",
              "\n",
              "     zuckerberg  zurich  \n",
              "0             0       0  \n",
              "1             0       0  \n",
              "2             0       0  \n",
              "3             0       0  \n",
              "4             0       0  \n",
              "..          ...     ...  \n",
              "421           0       0  \n",
              "422           0       0  \n",
              "423           0       0  \n",
              "424           0       0  \n",
              "425           0       0  \n",
              "\n",
              "[426 rows x 6365 columns]"
            ],
            "text/html": [
              "\n",
              "  <div id=\"df-1b32056b-865e-4eb4-8bc5-2d18d936e92a\">\n",
              "    <div class=\"colab-df-container\">\n",
              "      <div>\n",
              "<style scoped>\n",
              "    .dataframe tbody tr th:only-of-type {\n",
              "        vertical-align: middle;\n",
              "    }\n",
              "\n",
              "    .dataframe tbody tr th {\n",
              "        vertical-align: top;\n",
              "    }\n",
              "\n",
              "    .dataframe thead th {\n",
              "        text-align: right;\n",
              "    }\n",
              "</style>\n",
              "<table border=\"1\" class=\"dataframe\">\n",
              "  <thead>\n",
              "    <tr style=\"text-align: right;\">\n",
              "      <th></th>\n",
              "      <th>aa</th>\n",
              "      <th>aap</th>\n",
              "      <th>ab</th>\n",
              "      <th>abernathy</th>\n",
              "      <th>ability</th>\n",
              "      <th>able</th>\n",
              "      <th>abound</th>\n",
              "      <th>abroad</th>\n",
              "      <th>absence</th>\n",
              "      <th>absolutely</th>\n",
              "      <th>...</th>\n",
              "      <th>zero</th>\n",
              "      <th>zeus</th>\n",
              "      <th>zf</th>\n",
              "      <th>zheng</th>\n",
              "      <th>zillow</th>\n",
              "      <th>zogsport</th>\n",
              "      <th>zone</th>\n",
              "      <th>zoom</th>\n",
              "      <th>zuckerberg</th>\n",
              "      <th>zurich</th>\n",
              "    </tr>\n",
              "  </thead>\n",
              "  <tbody>\n",
              "    <tr>\n",
              "      <th>0</th>\n",
              "      <td>0</td>\n",
              "      <td>0</td>\n",
              "      <td>0</td>\n",
              "      <td>0</td>\n",
              "      <td>2</td>\n",
              "      <td>0</td>\n",
              "      <td>0</td>\n",
              "      <td>0</td>\n",
              "      <td>0</td>\n",
              "      <td>0</td>\n",
              "      <td>...</td>\n",
              "      <td>0</td>\n",
              "      <td>0</td>\n",
              "      <td>0</td>\n",
              "      <td>0</td>\n",
              "      <td>0</td>\n",
              "      <td>0</td>\n",
              "      <td>0</td>\n",
              "      <td>0</td>\n",
              "      <td>0</td>\n",
              "      <td>0</td>\n",
              "    </tr>\n",
              "    <tr>\n",
              "      <th>1</th>\n",
              "      <td>0</td>\n",
              "      <td>0</td>\n",
              "      <td>0</td>\n",
              "      <td>0</td>\n",
              "      <td>1</td>\n",
              "      <td>0</td>\n",
              "      <td>0</td>\n",
              "      <td>0</td>\n",
              "      <td>0</td>\n",
              "      <td>0</td>\n",
              "      <td>...</td>\n",
              "      <td>0</td>\n",
              "      <td>0</td>\n",
              "      <td>0</td>\n",
              "      <td>0</td>\n",
              "      <td>0</td>\n",
              "      <td>0</td>\n",
              "      <td>0</td>\n",
              "      <td>0</td>\n",
              "      <td>0</td>\n",
              "      <td>0</td>\n",
              "    </tr>\n",
              "    <tr>\n",
              "      <th>2</th>\n",
              "      <td>0</td>\n",
              "      <td>0</td>\n",
              "      <td>0</td>\n",
              "      <td>0</td>\n",
              "      <td>1</td>\n",
              "      <td>0</td>\n",
              "      <td>0</td>\n",
              "      <td>0</td>\n",
              "      <td>0</td>\n",
              "      <td>0</td>\n",
              "      <td>...</td>\n",
              "      <td>0</td>\n",
              "      <td>0</td>\n",
              "      <td>0</td>\n",
              "      <td>0</td>\n",
              "      <td>0</td>\n",
              "      <td>0</td>\n",
              "      <td>0</td>\n",
              "      <td>0</td>\n",
              "      <td>0</td>\n",
              "      <td>0</td>\n",
              "    </tr>\n",
              "    <tr>\n",
              "      <th>3</th>\n",
              "      <td>0</td>\n",
              "      <td>0</td>\n",
              "      <td>0</td>\n",
              "      <td>0</td>\n",
              "      <td>0</td>\n",
              "      <td>0</td>\n",
              "      <td>0</td>\n",
              "      <td>0</td>\n",
              "      <td>0</td>\n",
              "      <td>0</td>\n",
              "      <td>...</td>\n",
              "      <td>0</td>\n",
              "      <td>0</td>\n",
              "      <td>0</td>\n",
              "      <td>1</td>\n",
              "      <td>0</td>\n",
              "      <td>0</td>\n",
              "      <td>0</td>\n",
              "      <td>0</td>\n",
              "      <td>0</td>\n",
              "      <td>0</td>\n",
              "    </tr>\n",
              "    <tr>\n",
              "      <th>4</th>\n",
              "      <td>0</td>\n",
              "      <td>0</td>\n",
              "      <td>0</td>\n",
              "      <td>0</td>\n",
              "      <td>0</td>\n",
              "      <td>0</td>\n",
              "      <td>0</td>\n",
              "      <td>0</td>\n",
              "      <td>0</td>\n",
              "      <td>0</td>\n",
              "      <td>...</td>\n",
              "      <td>0</td>\n",
              "      <td>0</td>\n",
              "      <td>0</td>\n",
              "      <td>0</td>\n",
              "      <td>0</td>\n",
              "      <td>0</td>\n",
              "      <td>0</td>\n",
              "      <td>0</td>\n",
              "      <td>0</td>\n",
              "      <td>0</td>\n",
              "    </tr>\n",
              "    <tr>\n",
              "      <th>...</th>\n",
              "      <td>...</td>\n",
              "      <td>...</td>\n",
              "      <td>...</td>\n",
              "      <td>...</td>\n",
              "      <td>...</td>\n",
              "      <td>...</td>\n",
              "      <td>...</td>\n",
              "      <td>...</td>\n",
              "      <td>...</td>\n",
              "      <td>...</td>\n",
              "      <td>...</td>\n",
              "      <td>...</td>\n",
              "      <td>...</td>\n",
              "      <td>...</td>\n",
              "      <td>...</td>\n",
              "      <td>...</td>\n",
              "      <td>...</td>\n",
              "      <td>...</td>\n",
              "      <td>...</td>\n",
              "      <td>...</td>\n",
              "      <td>...</td>\n",
              "    </tr>\n",
              "    <tr>\n",
              "      <th>421</th>\n",
              "      <td>0</td>\n",
              "      <td>0</td>\n",
              "      <td>0</td>\n",
              "      <td>0</td>\n",
              "      <td>2</td>\n",
              "      <td>0</td>\n",
              "      <td>0</td>\n",
              "      <td>0</td>\n",
              "      <td>0</td>\n",
              "      <td>0</td>\n",
              "      <td>...</td>\n",
              "      <td>0</td>\n",
              "      <td>0</td>\n",
              "      <td>0</td>\n",
              "      <td>0</td>\n",
              "      <td>0</td>\n",
              "      <td>0</td>\n",
              "      <td>0</td>\n",
              "      <td>0</td>\n",
              "      <td>0</td>\n",
              "      <td>0</td>\n",
              "    </tr>\n",
              "    <tr>\n",
              "      <th>422</th>\n",
              "      <td>0</td>\n",
              "      <td>0</td>\n",
              "      <td>0</td>\n",
              "      <td>0</td>\n",
              "      <td>0</td>\n",
              "      <td>0</td>\n",
              "      <td>0</td>\n",
              "      <td>0</td>\n",
              "      <td>0</td>\n",
              "      <td>0</td>\n",
              "      <td>...</td>\n",
              "      <td>0</td>\n",
              "      <td>0</td>\n",
              "      <td>0</td>\n",
              "      <td>0</td>\n",
              "      <td>0</td>\n",
              "      <td>0</td>\n",
              "      <td>0</td>\n",
              "      <td>0</td>\n",
              "      <td>0</td>\n",
              "      <td>0</td>\n",
              "    </tr>\n",
              "    <tr>\n",
              "      <th>423</th>\n",
              "      <td>0</td>\n",
              "      <td>0</td>\n",
              "      <td>0</td>\n",
              "      <td>0</td>\n",
              "      <td>0</td>\n",
              "      <td>0</td>\n",
              "      <td>0</td>\n",
              "      <td>0</td>\n",
              "      <td>0</td>\n",
              "      <td>0</td>\n",
              "      <td>...</td>\n",
              "      <td>1</td>\n",
              "      <td>0</td>\n",
              "      <td>0</td>\n",
              "      <td>0</td>\n",
              "      <td>0</td>\n",
              "      <td>0</td>\n",
              "      <td>0</td>\n",
              "      <td>0</td>\n",
              "      <td>0</td>\n",
              "      <td>0</td>\n",
              "    </tr>\n",
              "    <tr>\n",
              "      <th>424</th>\n",
              "      <td>0</td>\n",
              "      <td>0</td>\n",
              "      <td>0</td>\n",
              "      <td>0</td>\n",
              "      <td>0</td>\n",
              "      <td>2</td>\n",
              "      <td>0</td>\n",
              "      <td>0</td>\n",
              "      <td>0</td>\n",
              "      <td>0</td>\n",
              "      <td>...</td>\n",
              "      <td>0</td>\n",
              "      <td>0</td>\n",
              "      <td>0</td>\n",
              "      <td>0</td>\n",
              "      <td>0</td>\n",
              "      <td>0</td>\n",
              "      <td>0</td>\n",
              "      <td>0</td>\n",
              "      <td>0</td>\n",
              "      <td>0</td>\n",
              "    </tr>\n",
              "    <tr>\n",
              "      <th>425</th>\n",
              "      <td>0</td>\n",
              "      <td>0</td>\n",
              "      <td>0</td>\n",
              "      <td>0</td>\n",
              "      <td>0</td>\n",
              "      <td>0</td>\n",
              "      <td>0</td>\n",
              "      <td>0</td>\n",
              "      <td>0</td>\n",
              "      <td>0</td>\n",
              "      <td>...</td>\n",
              "      <td>0</td>\n",
              "      <td>0</td>\n",
              "      <td>0</td>\n",
              "      <td>0</td>\n",
              "      <td>0</td>\n",
              "      <td>0</td>\n",
              "      <td>0</td>\n",
              "      <td>0</td>\n",
              "      <td>0</td>\n",
              "      <td>0</td>\n",
              "    </tr>\n",
              "  </tbody>\n",
              "</table>\n",
              "<p>426 rows × 6365 columns</p>\n",
              "</div>\n",
              "      <button class=\"colab-df-convert\" onclick=\"convertToInteractive('df-1b32056b-865e-4eb4-8bc5-2d18d936e92a')\"\n",
              "              title=\"Convert this dataframe to an interactive table.\"\n",
              "              style=\"display:none;\">\n",
              "        \n",
              "  <svg xmlns=\"http://www.w3.org/2000/svg\" height=\"24px\"viewBox=\"0 0 24 24\"\n",
              "       width=\"24px\">\n",
              "    <path d=\"M0 0h24v24H0V0z\" fill=\"none\"/>\n",
              "    <path d=\"M18.56 5.44l.94 2.06.94-2.06 2.06-.94-2.06-.94-.94-2.06-.94 2.06-2.06.94zm-11 1L8.5 8.5l.94-2.06 2.06-.94-2.06-.94L8.5 2.5l-.94 2.06-2.06.94zm10 10l.94 2.06.94-2.06 2.06-.94-2.06-.94-.94-2.06-.94 2.06-2.06.94z\"/><path d=\"M17.41 7.96l-1.37-1.37c-.4-.4-.92-.59-1.43-.59-.52 0-1.04.2-1.43.59L10.3 9.45l-7.72 7.72c-.78.78-.78 2.05 0 2.83L4 21.41c.39.39.9.59 1.41.59.51 0 1.02-.2 1.41-.59l7.78-7.78 2.81-2.81c.8-.78.8-2.07 0-2.86zM5.41 20L4 18.59l7.72-7.72 1.47 1.35L5.41 20z\"/>\n",
              "  </svg>\n",
              "      </button>\n",
              "      \n",
              "  <style>\n",
              "    .colab-df-container {\n",
              "      display:flex;\n",
              "      flex-wrap:wrap;\n",
              "      gap: 12px;\n",
              "    }\n",
              "\n",
              "    .colab-df-convert {\n",
              "      background-color: #E8F0FE;\n",
              "      border: none;\n",
              "      border-radius: 50%;\n",
              "      cursor: pointer;\n",
              "      display: none;\n",
              "      fill: #1967D2;\n",
              "      height: 32px;\n",
              "      padding: 0 0 0 0;\n",
              "      width: 32px;\n",
              "    }\n",
              "\n",
              "    .colab-df-convert:hover {\n",
              "      background-color: #E2EBFA;\n",
              "      box-shadow: 0px 1px 2px rgba(60, 64, 67, 0.3), 0px 1px 3px 1px rgba(60, 64, 67, 0.15);\n",
              "      fill: #174EA6;\n",
              "    }\n",
              "\n",
              "    [theme=dark] .colab-df-convert {\n",
              "      background-color: #3B4455;\n",
              "      fill: #D2E3FC;\n",
              "    }\n",
              "\n",
              "    [theme=dark] .colab-df-convert:hover {\n",
              "      background-color: #434B5C;\n",
              "      box-shadow: 0px 1px 3px 1px rgba(0, 0, 0, 0.15);\n",
              "      filter: drop-shadow(0px 1px 2px rgba(0, 0, 0, 0.3));\n",
              "      fill: #FFFFFF;\n",
              "    }\n",
              "  </style>\n",
              "\n",
              "      <script>\n",
              "        const buttonEl =\n",
              "          document.querySelector('#df-1b32056b-865e-4eb4-8bc5-2d18d936e92a button.colab-df-convert');\n",
              "        buttonEl.style.display =\n",
              "          google.colab.kernel.accessAllowed ? 'block' : 'none';\n",
              "\n",
              "        async function convertToInteractive(key) {\n",
              "          const element = document.querySelector('#df-1b32056b-865e-4eb4-8bc5-2d18d936e92a');\n",
              "          const dataTable =\n",
              "            await google.colab.kernel.invokeFunction('convertToInteractive',\n",
              "                                                     [key], {});\n",
              "          if (!dataTable) return;\n",
              "\n",
              "          const docLinkHtml = 'Like what you see? Visit the ' +\n",
              "            '<a target=\"_blank\" href=https://colab.research.google.com/notebooks/data_table.ipynb>data table notebook</a>'\n",
              "            + ' to learn more about interactive tables.';\n",
              "          element.innerHTML = '';\n",
              "          dataTable['output_type'] = 'display_data';\n",
              "          await google.colab.output.renderOutput(dataTable, element);\n",
              "          const docLink = document.createElement('div');\n",
              "          docLink.innerHTML = docLinkHtml;\n",
              "          element.appendChild(docLink);\n",
              "        }\n",
              "      </script>\n",
              "    </div>\n",
              "  </div>\n",
              "  "
            ]
          },
          "metadata": {},
          "execution_count": 28
        }
      ],
      "source": [
        "dtm_tf"
      ]
    },
    {
      "cell_type": "markdown",
      "metadata": {
        "id": "Zo1iH_UeY7_n"
      },
      "source": [
        "## 4) Visualize the most common word counts in a barplot"
      ]
    },
    {
      "cell_type": "code",
      "execution_count": 27,
      "metadata": {
        "colab": {
          "base_uri": "https://localhost:8080/",
          "height": 571
        },
        "id": "WEwQ-u--HAzJ",
        "outputId": "f74854fa-d668-4382-9229-2d4f60e279d9"
      },
      "outputs": [
        {
          "output_type": "display_data",
          "data": {
            "text/plain": [
              "<Figure size 1440x576 with 1 Axes>"
            ],
            "image/png": "[encoded data removed]"
          },
          "metadata": {
            "needs_background": "light"
          }
        }
      ],
      "source": [
        "###BEGIN SOLUTION\n",
        "# COMPLETE THE CODE IN THIS CELL\n",
        "top_n = 20\n",
        "# sum the term counts in each column of the dtm_tf data frame and then sort in descending order\n",
        "sorted_terms = dtm_tf.sum().sort_values(ascending=False)\n",
        "\n",
        "plt.title(\"Top {} Most Common Words in Tech Job Listings\".format(top_n), fontsize=14)\n",
        "sorted_terms[:top_n].plot(kind='bar', figsize=(20,8), grid=True, fontsize=14);\n",
        "###END SOLUTION"
      ]
    },
    {
      "cell_type": "markdown",
      "metadata": {
        "id": "bwFsTqrVZMYi"
      },
      "source": [
        "## 5) Use Scikit-Learn's `TfidfVectorizer` to get a TF-IDF feature matrix\n",
        "\n",
        "- Instantiate a `TfidfVectorizer` object\n",
        "- Pass the tokenizer that you created above as a parameter value into `TfidfVectorizer`\n",
        "- Use `TfidfVectorizer` to create a *tf-idf feature matrix* \n",
        "- Copy your *tf-idf feature matrix* into a `pandas` dataframe, getting the column names from the `TfidfVectorizer` object\n"
      ]
    },
    {
      "cell_type": "code",
      "execution_count": 29,
      "metadata": {
        "colab": {
          "base_uri": "https://localhost:8080/"
        },
        "id": "-gx2gZCbl5Np",
        "outputId": "09dbd6af-f596-4d3d-d9ad-8f91bf1b9eed"
      },
      "outputs": [
        {
          "output_type": "stream",
          "name": "stderr",
          "text": [
            "/usr/local/lib/python3.8/dist-packages/sklearn/feature_extraction/text.py:516: UserWarning: The parameter 'token_pattern' will not be used since 'tokenizer' is not None'\n",
            "  warnings.warn(\n"
          ]
        }
      ],
      "source": [
        "###BEGIN SOLUTION\n",
        "## YOUR CODE HERE\n",
        "\n",
        "# instantiate the tfidfvectorizer\n",
        "tfidf = TfidfVectorizer(tokenizer=tokenizer, stop_words='english')\n",
        "# fit the tfidf vectorizer to the cleaned text\n",
        "tfidf  = tfidf.fit(df.clean_text)\n",
        "# transform the cleaned text to get the term frequency - inverted document frequency matrix\n",
        "dtm_tfidf  = tfidf.transform(df.clean_text).toarray()\n",
        "###END SOLUTION"
      ]
    },
    {
      "cell_type": "code",
      "source": [
        "# making dtm_tfidf into a pandas DataFrame\n",
        "dtm_tfidf_df = pd.DataFrame(data=dtm_tfidf, columns=vect.get_feature_names_out())\n",
        "dtm_tfidf_df"
      ],
      "metadata": {
        "colab": {
          "base_uri": "https://localhost:8080/",
          "height": 424
        },
        "id": "Qjf-dtLF9viM",
        "outputId": "741c0b48-0330-45c3-f94b-38f9893d3d34"
      },
      "execution_count": 30,
      "outputs": [
        {
          "output_type": "execute_result",
          "data": {
            "text/plain": [
              "      aa  aap   ab  abernathy   ability      able  abound  abroad  absence  \\\n",
              "0    0.0  0.0  0.0        0.0  0.094046  0.000000     0.0     0.0      0.0   \n",
              "1    0.0  0.0  0.0        0.0  0.021768  0.000000     0.0     0.0      0.0   \n",
              "2    0.0  0.0  0.0        0.0  0.070475  0.000000     0.0     0.0      0.0   \n",
              "3    0.0  0.0  0.0        0.0  0.000000  0.000000     0.0     0.0      0.0   \n",
              "4    0.0  0.0  0.0        0.0  0.000000  0.000000     0.0     0.0      0.0   \n",
              "..   ...  ...  ...        ...       ...       ...     ...     ...      ...   \n",
              "421  0.0  0.0  0.0        0.0  0.029650  0.000000     0.0     0.0      0.0   \n",
              "422  0.0  0.0  0.0        0.0  0.000000  0.000000     0.0     0.0      0.0   \n",
              "423  0.0  0.0  0.0        0.0  0.000000  0.000000     0.0     0.0      0.0   \n",
              "424  0.0  0.0  0.0        0.0  0.000000  0.067751     0.0     0.0      0.0   \n",
              "425  0.0  0.0  0.0        0.0  0.000000  0.000000     0.0     0.0      0.0   \n",
              "\n",
              "     absolutely  ...      zero  zeus   zf     zheng  zillow  zogsport  zone  \\\n",
              "0           0.0  ...  0.000000   0.0  0.0  0.000000     0.0       0.0   0.0   \n",
              "1           0.0  ...  0.000000   0.0  0.0  0.000000     0.0       0.0   0.0   \n",
              "2           0.0  ...  0.000000   0.0  0.0  0.000000     0.0       0.0   0.0   \n",
              "3           0.0  ...  0.000000   0.0  0.0  0.115006     0.0       0.0   0.0   \n",
              "4           0.0  ...  0.000000   0.0  0.0  0.000000     0.0       0.0   0.0   \n",
              "..          ...  ...       ...   ...  ...       ...     ...       ...   ...   \n",
              "421         0.0  ...  0.000000   0.0  0.0  0.000000     0.0       0.0   0.0   \n",
              "422         0.0  ...  0.000000   0.0  0.0  0.000000     0.0       0.0   0.0   \n",
              "423         0.0  ...  0.105607   0.0  0.0  0.000000     0.0       0.0   0.0   \n",
              "424         0.0  ...  0.000000   0.0  0.0  0.000000     0.0       0.0   0.0   \n",
              "425         0.0  ...  0.000000   0.0  0.0  0.000000     0.0       0.0   0.0   \n",
              "\n",
              "     zoom  zuckerberg  zurich  \n",
              "0     0.0         0.0     0.0  \n",
              "1     0.0         0.0     0.0  \n",
              "2     0.0         0.0     0.0  \n",
              "3     0.0         0.0     0.0  \n",
              "4     0.0         0.0     0.0  \n",
              "..    ...         ...     ...  \n",
              "421   0.0         0.0     0.0  \n",
              "422   0.0         0.0     0.0  \n",
              "423   0.0         0.0     0.0  \n",
              "424   0.0         0.0     0.0  \n",
              "425   0.0         0.0     0.0  \n",
              "\n",
              "[426 rows x 6365 columns]"
            ],
            "text/html": [
              "\n",
              "  <div id=\"df-d567cf84-123c-488b-b893-8bd8138148b1\">\n",
              "    <div class=\"colab-df-container\">\n",
              "      <div>\n",
              "<style scoped>\n",
              "    .dataframe tbody tr th:only-of-type {\n",
              "        vertical-align: middle;\n",
              "    }\n",
              "\n",
              "    .dataframe tbody tr th {\n",
              "        vertical-align: top;\n",
              "    }\n",
              "\n",
              "    .dataframe thead th {\n",
              "        text-align: right;\n",
              "    }\n",
              "</style>\n",
              "<table border=\"1\" class=\"dataframe\">\n",
              "  <thead>\n",
              "    <tr style=\"text-align: right;\">\n",
              "      <th></th>\n",
              "      <th>aa</th>\n",
              "      <th>aap</th>\n",
              "      <th>ab</th>\n",
              "      <th>abernathy</th>\n",
              "      <th>ability</th>\n",
              "      <th>able</th>\n",
              "      <th>abound</th>\n",
              "      <th>abroad</th>\n",
              "      <th>absence</th>\n",
              "      <th>absolutely</th>\n",
              "      <th>...</th>\n",
              "      <th>zero</th>\n",
              "      <th>zeus</th>\n",
              "      <th>zf</th>\n",
              "      <th>zheng</th>\n",
              "      <th>zillow</th>\n",
              "      <th>zogsport</th>\n",
              "      <th>zone</th>\n",
              "      <th>zoom</th>\n",
              "      <th>zuckerberg</th>\n",
              "      <th>zurich</th>\n",
              "    </tr>\n",
              "  </thead>\n",
              "  <tbody>\n",
              "    <tr>\n",
              "      <th>0</th>\n",
              "      <td>0.0</td>\n",
              "      <td>0.0</td>\n",
              "      <td>0.0</td>\n",
              "      <td>0.0</td>\n",
              "      <td>0.094046</td>\n",
              "      <td>0.000000</td>\n",
              "      <td>0.0</td>\n",
              "      <td>0.0</td>\n",
              "      <td>0.0</td>\n",
              "      <td>0.0</td>\n",
              "      <td>...</td>\n",
              "      <td>0.000000</td>\n",
              "      <td>0.0</td>\n",
              "      <td>0.0</td>\n",
              "      <td>0.000000</td>\n",
              "      <td>0.0</td>\n",
              "      <td>0.0</td>\n",
              "      <td>0.0</td>\n",
              "      <td>0.0</td>\n",
              "      <td>0.0</td>\n",
              "      <td>0.0</td>\n",
              "    </tr>\n",
              "    <tr>\n",
              "      <th>1</th>\n",
              "      <td>0.0</td>\n",
              "      <td>0.0</td>\n",
              "      <td>0.0</td>\n",
              "      <td>0.0</td>\n",
              "      <td>0.021768</td>\n",
              "      <td>0.000000</td>\n",
              "      <td>0.0</td>\n",
              "      <td>0.0</td>\n",
              "      <td>0.0</td>\n",
              "      <td>0.0</td>\n",
              "      <td>...</td>\n",
              "      <td>0.000000</td>\n",
              "      <td>0.0</td>\n",
              "      <td>0.0</td>\n",
              "      <td>0.000000</td>\n",
              "      <td>0.0</td>\n",
              "      <td>0.0</td>\n",
              "      <td>0.0</td>\n",
              "      <td>0.0</td>\n",
              "      <td>0.0</td>\n",
              "      <td>0.0</td>\n",
              "    </tr>\n",
              "    <tr>\n",
              "      <th>2</th>\n",
              "      <td>0.0</td>\n",
              "      <td>0.0</td>\n",
              "      <td>0.0</td>\n",
              "      <td>0.0</td>\n",
              "      <td>0.070475</td>\n",
              "      <td>0.000000</td>\n",
              "      <td>0.0</td>\n",
              "      <td>0.0</td>\n",
              "      <td>0.0</td>\n",
              "      <td>0.0</td>\n",
              "      <td>...</td>\n",
              "      <td>0.000000</td>\n",
              "      <td>0.0</td>\n",
              "      <td>0.0</td>\n",
              "      <td>0.000000</td>\n",
              "      <td>0.0</td>\n",
              "      <td>0.0</td>\n",
              "      <td>0.0</td>\n",
              "      <td>0.0</td>\n",
              "      <td>0.0</td>\n",
              "      <td>0.0</td>\n",
              "    </tr>\n",
              "    <tr>\n",
              "      <th>3</th>\n",
              "      <td>0.0</td>\n",
              "      <td>0.0</td>\n",
              "      <td>0.0</td>\n",
              "      <td>0.0</td>\n",
              "      <td>0.000000</td>\n",
              "      <td>0.000000</td>\n",
              "      <td>0.0</td>\n",
              "      <td>0.0</td>\n",
              "      <td>0.0</td>\n",
              "      <td>0.0</td>\n",
              "      <td>...</td>\n",
              "      <td>0.000000</td>\n",
              "      <td>0.0</td>\n",
              "      <td>0.0</td>\n",
              "      <td>0.115006</td>\n",
              "      <td>0.0</td>\n",
              "      <td>0.0</td>\n",
              "      <td>0.0</td>\n",
              "      <td>0.0</td>\n",
              "      <td>0.0</td>\n",
              "      <td>0.0</td>\n",
              "    </tr>\n",
              "    <tr>\n",
              "      <th>4</th>\n",
              "      <td>0.0</td>\n",
              "      <td>0.0</td>\n",
              "      <td>0.0</td>\n",
              "      <td>0.0</td>\n",
              "      <td>0.000000</td>\n",
              "      <td>0.000000</td>\n",
              "      <td>0.0</td>\n",
              "      <td>0.0</td>\n",
              "      <td>0.0</td>\n",
              "      <td>0.0</td>\n",
              "      <td>...</td>\n",
              "      <td>0.000000</td>\n",
              "      <td>0.0</td>\n",
              "      <td>0.0</td>\n",
              "      <td>0.000000</td>\n",
              "      <td>0.0</td>\n",
              "      <td>0.0</td>\n",
              "      <td>0.0</td>\n",
              "      <td>0.0</td>\n",
              "      <td>0.0</td>\n",
              "      <td>0.0</td>\n",
              "    </tr>\n",
              "    <tr>\n",
              "      <th>...</th>\n",
              "      <td>...</td>\n",
              "      <td>...</td>\n",
              "      <td>...</td>\n",
              "      <td>...</td>\n",
              "      <td>...</td>\n",
              "      <td>...</td>\n",
              "      <td>...</td>\n",
              "      <td>...</td>\n",
              "      <td>...</td>\n",
              "      <td>...</td>\n",
              "      <td>...</td>\n",
              "      <td>...</td>\n",
              "      <td>...</td>\n",
              "      <td>...</td>\n",
              "      <td>...</td>\n",
              "      <td>...</td>\n",
              "      <td>...</td>\n",
              "      <td>...</td>\n",
              "      <td>...</td>\n",
              "      <td>...</td>\n",
              "      <td>...</td>\n",
              "    </tr>\n",
              "    <tr>\n",
              "      <th>421</th>\n",
              "      <td>0.0</td>\n",
              "      <td>0.0</td>\n",
              "      <td>0.0</td>\n",
              "      <td>0.0</td>\n",
              "      <td>0.029650</td>\n",
              "      <td>0.000000</td>\n",
              "      <td>0.0</td>\n",
              "      <td>0.0</td>\n",
              "      <td>0.0</td>\n",
              "      <td>0.0</td>\n",
              "      <td>...</td>\n",
              "      <td>0.000000</td>\n",
              "      <td>0.0</td>\n",
              "      <td>0.0</td>\n",
              "      <td>0.000000</td>\n",
              "      <td>0.0</td>\n",
              "      <td>0.0</td>\n",
              "      <td>0.0</td>\n",
              "      <td>0.0</td>\n",
              "      <td>0.0</td>\n",
              "      <td>0.0</td>\n",
              "    </tr>\n",
              "    <tr>\n",
              "      <th>422</th>\n",
              "      <td>0.0</td>\n",
              "      <td>0.0</td>\n",
              "      <td>0.0</td>\n",
              "      <td>0.0</td>\n",
              "      <td>0.000000</td>\n",
              "      <td>0.000000</td>\n",
              "      <td>0.0</td>\n",
              "      <td>0.0</td>\n",
              "      <td>0.0</td>\n",
              "      <td>0.0</td>\n",
              "      <td>...</td>\n",
              "      <td>0.000000</td>\n",
              "      <td>0.0</td>\n",
              "      <td>0.0</td>\n",
              "      <td>0.000000</td>\n",
              "      <td>0.0</td>\n",
              "      <td>0.0</td>\n",
              "      <td>0.0</td>\n",
              "      <td>0.0</td>\n",
              "      <td>0.0</td>\n",
              "      <td>0.0</td>\n",
              "    </tr>\n",
              "    <tr>\n",
              "      <th>423</th>\n",
              "      <td>0.0</td>\n",
              "      <td>0.0</td>\n",
              "      <td>0.0</td>\n",
              "      <td>0.0</td>\n",
              "      <td>0.000000</td>\n",
              "      <td>0.000000</td>\n",
              "      <td>0.0</td>\n",
              "      <td>0.0</td>\n",
              "      <td>0.0</td>\n",
              "      <td>0.0</td>\n",
              "      <td>...</td>\n",
              "      <td>0.105607</td>\n",
              "      <td>0.0</td>\n",
              "      <td>0.0</td>\n",
              "      <td>0.000000</td>\n",
              "      <td>0.0</td>\n",
              "      <td>0.0</td>\n",
              "      <td>0.0</td>\n",
              "      <td>0.0</td>\n",
              "      <td>0.0</td>\n",
              "      <td>0.0</td>\n",
              "    </tr>\n",
              "    <tr>\n",
              "      <th>424</th>\n",
              "      <td>0.0</td>\n",
              "      <td>0.0</td>\n",
              "      <td>0.0</td>\n",
              "      <td>0.0</td>\n",
              "      <td>0.000000</td>\n",
              "      <td>0.067751</td>\n",
              "      <td>0.0</td>\n",
              "      <td>0.0</td>\n",
              "      <td>0.0</td>\n",
              "      <td>0.0</td>\n",
              "      <td>...</td>\n",
              "      <td>0.000000</td>\n",
              "      <td>0.0</td>\n",
              "      <td>0.0</td>\n",
              "      <td>0.000000</td>\n",
              "      <td>0.0</td>\n",
              "      <td>0.0</td>\n",
              "      <td>0.0</td>\n",
              "      <td>0.0</td>\n",
              "      <td>0.0</td>\n",
              "      <td>0.0</td>\n",
              "    </tr>\n",
              "    <tr>\n",
              "      <th>425</th>\n",
              "      <td>0.0</td>\n",
              "      <td>0.0</td>\n",
              "      <td>0.0</td>\n",
              "      <td>0.0</td>\n",
              "      <td>0.000000</td>\n",
              "      <td>0.000000</td>\n",
              "      <td>0.0</td>\n",
              "      <td>0.0</td>\n",
              "      <td>0.0</td>\n",
              "      <td>0.0</td>\n",
              "      <td>...</td>\n",
              "      <td>0.000000</td>\n",
              "      <td>0.0</td>\n",
              "      <td>0.0</td>\n",
              "      <td>0.000000</td>\n",
              "      <td>0.0</td>\n",
              "      <td>0.0</td>\n",
              "      <td>0.0</td>\n",
              "      <td>0.0</td>\n",
              "      <td>0.0</td>\n",
              "      <td>0.0</td>\n",
              "    </tr>\n",
              "  </tbody>\n",
              "</table>\n",
              "<p>426 rows × 6365 columns</p>\n",
              "</div>\n",
              "      <button class=\"colab-df-convert\" onclick=\"convertToInteractive('df-d567cf84-123c-488b-b893-8bd8138148b1')\"\n",
              "              title=\"Convert this dataframe to an interactive table.\"\n",
              "              style=\"display:none;\">\n",
              "        \n",
              "  <svg xmlns=\"http://www.w3.org/2000/svg\" height=\"24px\"viewBox=\"0 0 24 24\"\n",
              "       width=\"24px\">\n",
              "    <path d=\"M0 0h24v24H0V0z\" fill=\"none\"/>\n",
              "    <path d=\"M18.56 5.44l.94 2.06.94-2.06 2.06-.94-2.06-.94-.94-2.06-.94 2.06-2.06.94zm-11 1L8.5 8.5l.94-2.06 2.06-.94-2.06-.94L8.5 2.5l-.94 2.06-2.06.94zm10 10l.94 2.06.94-2.06 2.06-.94-2.06-.94-.94-2.06-.94 2.06-2.06.94z\"/><path d=\"M17.41 7.96l-1.37-1.37c-.4-.4-.92-.59-1.43-.59-.52 0-1.04.2-1.43.59L10.3 9.45l-7.72 7.72c-.78.78-.78 2.05 0 2.83L4 21.41c.39.39.9.59 1.41.59.51 0 1.02-.2 1.41-.59l7.78-7.78 2.81-2.81c.8-.78.8-2.07 0-2.86zM5.41 20L4 18.59l7.72-7.72 1.47 1.35L5.41 20z\"/>\n",
              "  </svg>\n",
              "      </button>\n",
              "      \n",
              "  <style>\n",
              "    .colab-df-container {\n",
              "      display:flex;\n",
              "      flex-wrap:wrap;\n",
              "      gap: 12px;\n",
              "    }\n",
              "\n",
              "    .colab-df-convert {\n",
              "      background-color: #E8F0FE;\n",
              "      border: none;\n",
              "      border-radius: 50%;\n",
              "      cursor: pointer;\n",
              "      display: none;\n",
              "      fill: #1967D2;\n",
              "      height: 32px;\n",
              "      padding: 0 0 0 0;\n",
              "      width: 32px;\n",
              "    }\n",
              "\n",
              "    .colab-df-convert:hover {\n",
              "      background-color: #E2EBFA;\n",
              "      box-shadow: 0px 1px 2px rgba(60, 64, 67, 0.3), 0px 1px 3px 1px rgba(60, 64, 67, 0.15);\n",
              "      fill: #174EA6;\n",
              "    }\n",
              "\n",
              "    [theme=dark] .colab-df-convert {\n",
              "      background-color: #3B4455;\n",
              "      fill: #D2E3FC;\n",
              "    }\n",
              "\n",
              "    [theme=dark] .colab-df-convert:hover {\n",
              "      background-color: #434B5C;\n",
              "      box-shadow: 0px 1px 3px 1px rgba(0, 0, 0, 0.15);\n",
              "      filter: drop-shadow(0px 1px 2px rgba(0, 0, 0, 0.3));\n",
              "      fill: #FFFFFF;\n",
              "    }\n",
              "  </style>\n",
              "\n",
              "      <script>\n",
              "        const buttonEl =\n",
              "          document.querySelector('#df-d567cf84-123c-488b-b893-8bd8138148b1 button.colab-df-convert');\n",
              "        buttonEl.style.display =\n",
              "          google.colab.kernel.accessAllowed ? 'block' : 'none';\n",
              "\n",
              "        async function convertToInteractive(key) {\n",
              "          const element = document.querySelector('#df-d567cf84-123c-488b-b893-8bd8138148b1');\n",
              "          const dataTable =\n",
              "            await google.colab.kernel.invokeFunction('convertToInteractive',\n",
              "                                                     [key], {});\n",
              "          if (!dataTable) return;\n",
              "\n",
              "          const docLinkHtml = 'Like what you see? Visit the ' +\n",
              "            '<a target=\"_blank\" href=https://colab.research.google.com/notebooks/data_table.ipynb>data table notebook</a>'\n",
              "            + ' to learn more about interactive tables.';\n",
              "          element.innerHTML = '';\n",
              "          dataTable['output_type'] = 'display_data';\n",
              "          await google.colab.output.renderOutput(dataTable, element);\n",
              "          const docLink = document.createElement('div');\n",
              "          docLink.innerHTML = docLinkHtml;\n",
              "          element.appendChild(docLink);\n",
              "        }\n",
              "      </script>\n",
              "    </div>\n",
              "  </div>\n",
              "  "
            ]
          },
          "metadata": {},
          "execution_count": 30
        }
      ]
    },
    {
      "cell_type": "markdown",
      "metadata": {
        "id": "Sfy_WGLrQl_T"
      },
      "source": [
        "Stretch: see if you can make a visualization of this TF-IDF Document-Term  matrix, as you did in Part 3 for the CountVectorizer Document-Term matrix, i.e. using a barplot."
      ]
    },
    {
      "cell_type": "code",
      "source": [
        "top_n = 20\n",
        "# sum the term counts in each column of the tfidf data frame and then sort in descending order\n",
        "sorted_terms = dtm_tfidf_df.sum().sort_values(ascending=False)\n",
        "\n",
        "plt.title(\"Top {} Most Common Words in Tech Job Listings\".format(top_n), fontsize=14)\n",
        "sorted_terms[:top_n].plot(kind='bar', figsize=(20,8), grid=True, fontsize=14);\n",
        "###END SOLUTION"
      ],
      "metadata": {
        "colab": {
          "base_uri": "https://localhost:8080/",
          "height": 567
        },
        "id": "UP2Mzn0YN7Xl",
        "outputId": "290b4ee3-52ca-4aa3-c6c3-26ae91e9e1b9"
      },
      "execution_count": 31,
      "outputs": [
        {
          "output_type": "display_data",
          "data": {
            "text/plain": [
              "<Figure size 1440x576 with 1 Axes>"
            ],
            "image/png": "[encoded data removed]"
          },
          "metadata": {
            "needs_background": "light"
          }
        }
      ]
    },
    {
      "cell_type": "markdown",
      "metadata": {
        "id": "MPGAFniRN_LY"
      },
      "source": [
        "## 6) Create a `NearestNeighbor` Model for the Data Science job listings\n",
        "Write some text that describes your ideal Data Science job, and query the model to identify jobs with similar descriptions!"
      ]
    },
    {
      "cell_type": "code",
      "execution_count": 32,
      "metadata": {
        "id": "Jr152QRrN_LZ"
      },
      "outputs": [],
      "source": [
        "ideal_ds_job_query=[\"\"\"\n",
        "Seeking a professional to fill a fully remote Junior Data Science position. The ideal candidate should have statistical knowledge and some experience\n",
        "cleaning, analyzing and visualizing data, building machine learning algorithms, using SQL databases. The ideal candidate must have experience working\n",
        "with Python stack: pandas, numpy, sklearn, matplotlib, seaborn. Familiarity with nlp and deep learning a plus.\n",
        "\"\"\"]"
      ]
    },
    {
      "cell_type": "code",
      "execution_count": 33,
      "metadata": {
        "id": "Zdwl_7BFibnk"
      },
      "outputs": [],
      "source": [
        "# vectorize your ideal job description using your fitted tfidf vectorizer \n",
        "ideal_job_vector = tfidf.transform(ideal_ds_job_query).toarray()"
      ]
    },
    {
      "cell_type": "code",
      "execution_count": 36,
      "metadata": {
        "colab": {
          "base_uri": "https://localhost:8080/"
        },
        "id": "RW_UwihrhiwJ",
        "outputId": "13c76709-4236-425e-f2d1-f1c1f68c152f"
      },
      "outputs": [
        {
          "output_type": "execute_result",
          "data": {
            "text/plain": [
              "array([[0., 0., 0., ..., 0., 0., 0.]])"
            ]
          },
          "metadata": {},
          "execution_count": 36
        }
      ],
      "source": [
        "ideal_job_vector"
      ]
    },
    {
      "cell_type": "code",
      "execution_count": 37,
      "metadata": {
        "colab": {
          "base_uri": "https://localhost:8080/"
        },
        "id": "8m9IohKsgwpl",
        "outputId": "bbd70313-e7cd-4991-85bf-6ab40c4f369a"
      },
      "outputs": [
        {
          "output_type": "execute_result",
          "data": {
            "text/plain": [
              "6365"
            ]
          },
          "metadata": {},
          "execution_count": 37
        }
      ],
      "source": [
        "len(ideal_job_vector[0])"
      ]
    },
    {
      "cell_type": "code",
      "execution_count": 38,
      "metadata": {
        "colab": {
          "base_uri": "https://localhost:8080/"
        },
        "id": "hLnOe69ghPIr",
        "outputId": "db583bf5-fb59-49a9-975d-e107fb4ed699"
      },
      "outputs": [
        {
          "output_type": "execute_result",
          "data": {
            "text/plain": [
              "(1, 6365)"
            ]
          },
          "metadata": {},
          "execution_count": 38
        }
      ],
      "source": [
        "ideal_job_vector.shape"
      ]
    },
    {
      "cell_type": "code",
      "execution_count": 39,
      "metadata": {
        "id": "08xcbFKugubR"
      },
      "outputs": [],
      "source": [
        "# fit NearestNeighbors model to the Indeed reviews document-term matrix that you created\n",
        "# YOUR CODE HERE#\n",
        "# instantiate the nearest neighbors model\n",
        "top_n_neigh = 5\n",
        "nn = NearestNeighbors(n_neighbors=top_n_neigh)\n",
        "# fit the model\n",
        "nn.fit(dtm_tfidf)\n",
        "\n",
        "# get top_n_neigh distances and review indices for reviews that are closest to your ideal job\n",
        "n_dist, n_ind = nn.kneighbors(ideal_job_vector)"
      ]
    },
    {
      "cell_type": "code",
      "execution_count": 40,
      "metadata": {
        "colab": {
          "base_uri": "https://localhost:8080/"
        },
        "id": "YbSIqX0mjGyo",
        "outputId": "2b4ee759-49ff-434a-e641-f186c5f61c19"
      },
      "outputs": [
        {
          "output_type": "stream",
          "name": "stdout",
          "text": [
            "\n",
            " 1   data scientist job description  about us  amplion synthesizes the world s biomedical knowledge to accelerate precision medicine and enable confident strategic decisioning in drug and diagnostic development  the company s saas platform leverages machine learning to provide actionable intelligence across millions of disparate data sources  delivering the leading solution for pre clinical and clinical evidence in the life sciences industry   all of us at amplion are extremely passionate about enabling the life science industry to deliver on the promise of precision medicine  no disruption of a major industry happens with an individual  it takes a great team  aligned around something meaningful and big  if you share in our passion and want to work for a growing company with the opportunity for professional growth with purpose  we d love to meet you   the role  we are looking for a data scientist who will support our effort to accelerate the realization of precision medicine  you will be working with our data science team to analyze data from a variety of sources of structured and unstructured data to provide insights to our life science customers in their efforts to bring precision medicine to consumers   the ideal candidate has a strong background in machine learning  natural language processing  python  a bioscience background is highly preferred   apply machine learning techniques in a statistically rigorous manner work closely with product team to prioritize data science efforts work with data engineers to architect data and modeling pipelines plan  and be able to conduct as needed  end to end analyses  from data requirement gathering to data processing and modeling own ongoing deliverables and communications  role requirements ms degree in a quantitative discipline  e g   statistics  physics  applied mathematics  computer science  or equivalent experience      years experience in applied statistical analysis  machine learning  and data mining excellent programming skills in python experience with sql and graph databases experience and knowledge of python data science ecosystem  pandas  jupyter  numpy  matplotlib  seaborn experience and knowledge of at least one python machine learning framework  e g   scikit learn  keras  tensorflow  pytorch experience running reproducible experiments and analyzing the results using a full end to end pipeline  from collecting raw data and preprocessing  statistical modeling and performance benchmarking  to final prototype packaging willingness to learn new software and platforms as needed self starter able to work in a fast moving and rapidly evolving environment team oriented individual willing to collaborate with multiple colleagues and partners  preferred qualifications phd in a quantitative discipline background in nlp or bioinformatics experience in applied nlp and text mining  e g   named entity recognition  entity linking  document classification  coreference resolution  topic modeling experience with python nlp libraries  eg  nltk  spacy  allennlp  experience of applying neural net frameworks  e g   keras  tensorflow  pytorch   to nlp modeling  additional information amplion is an equal opportunity employer and prohibits discrimination and harassment of any kind  at amplion  we value diversity  all aspects of employment will be based on merit  competence  performance  and business needs  we do not discriminate on the basis of race  color  religion  marital status  age  national origin  ancestry  physical or mental disabilities  medical condition  pregnancy  genetic information  gender  sexual orientation  gender identity or expression  veteran status  or any other status protected under federal  state and local law\n",
            "\n",
            " 2   senior data scientist job description  about us  amplion synthesizes the world s biomedical knowledge to accelerate precision medicine and enable confident strategic decisioning in drug and diagnostic development  the company s saas platform leverages machine learning to provide actionable intelligence across millions of disparate data sources  delivering the leading solution for pre clinical and clinical evidence in the life sciences industry   all of us at amplion are extremely passionate about enabling the life science industry to deliver on the promise of precision medicine  no disruption of a major industry happens with an individual  it takes a great team  aligned around something meaningful and big  if you share in our passion and want to work for a growing company with the opportunity for professional growth with purpose  we d love to meet you   the role  we are looking for a data scientist who will support our effort to accelerate the realization of precision medicine  you will be working with our data science team to analyze data from a variety of sources of structured and unstructured data to provide insights to our life science customers in their efforts to bring precision medicine to consumers   the ideal candidate has a strong background in machine learning  natural language processing  python  a bioscience background is highly preferred   apply machine learning techniques in a statistically rigorous manner work closely with product team to prioritize data science efforts work with data engineers to architect data and modeling pipelines plan  and be able to conduct as needed  end to end analyses  from data requirement gathering to data processing and modeling own ongoing deliverables and communications  role requirements ms degree in a quantitative discipline  e g   statistics  physics  applied mathematics  computer science  or equivalent experience      years experience in applied statistical analysis  machine learning  and data mining excellent programming skills in python experience with sql and graph databases experience and knowledge of python data science ecosystem  pandas  jupyter  numpy  matplotlib  seaborn experience and knowledge of at least one python machine learning framework  e g   scikit learn  keras  tensorflow  pytorch experience running reproducible experiments and analyzing the results using a full end to end pipeline  from collecting raw data and preprocessing  statistical modeling and performance benchmarking  to final prototype packaging willingness to learn new software and platforms as needed self starter able to work in a fast moving and rapidly evolving environment team oriented individual willing to collaborate with multiple colleagues and partners  preferred qualifications phd in a quantitative discipline background in nlp or bioinformatics experience in applied nlp and text mining  e g   named entity recognition  entity linking  document classification  coreference resolution  topic modeling experience with python nlp libraries  eg  nltk  spacy  allennlp  experience of applying neural net frameworks  e g   keras  tensorflow  pytorch   to nlp modeling  additional information amplion is an equal opportunity employer and prohibits discrimination and harassment of any kind  at amplion  we value diversity  all aspects of employment will be based on merit  competence  performance  and business needs  we do not discriminate on the basis of race  color  religion  marital status  age  national origin  ancestry  physical or mental disabilities  medical condition  pregnancy  genetic information  gender  sexual orientation  gender identity or expression  veteran status  or any other status protected under federal  state and local law\n",
            "\n",
            " 3   internshipoverview data science internships portland  or or seattle  wa these twelve week internships are scheduled to begin in may june      responsibilities   requirements cambia health solutions is working to create a seamless and frictionless health care experience for consumers nationwide  this presents a unique challenge and opportunity for innovative and disruptive solutions from our artificial intelligence team   our data scientists design  develop  and implement data driven solutions using machine learning technologies and advanced statistical analyses  you should be passionate about finding insights in data  comfortable with large and fragmented data sets  and command a variety of analytic tools at your disposal   internship opportunities are available on the following teams  natural language processing  deep learning  product development and clinical analytics   natural language processing in seattle  wa our nlp team is looking for a passionate  talented and inventive nlp data science intern to help build industry leading speech and language solutions  together with a highly multi disciplinary team of scientists  engineers  strategic partners and subject domain experts  you will work on building a real product with natural language processing and machine learning at its core   essential function of the nlp data scientist internship  utilize statistical natural language processing to mine unstructured data and create insights build and optimize cutting edge natural language understanding systems such as conversational agents  chatbots  build core in house nlp components and analytical tools such as document clustering  topic analysis  text classification  named entity recognition  sentiment analysis  and part of speech tagging methods for unstructured and semi structured data identify and deploy existing machine learning  natural language processing  and information retrieval techniques and systems for knowledge management and discovery  such as using electronic medical records  emr  data  progress notes  and discharge summaries to identify admitting diagnosis  reason for consultation  clinical history  etc identify ways to analyze consumers  experiences from various communication channels and improve customer satisfaction cluster and analyze large amounts of user generated content and process data in large scale environments in amazon aws such as ec   emr  mapreduce  and pyspark integrate the nlp pipeline into the production environment  ensure its scalability  and leverage knowledge gained into other projects  modeling  and work practices design novel algorithms for problem solving  which may include data cleaning  feature selection  statistical modeling  data clustering and classification  text processing  and other machine learning techniques  to solve complex healthcare problems presented by healthcare organizations collaborate with different functional teams within cambia and externally to find solutions to problems in healthcare key qualifications and experience for the nlp data scientist internship  currently enrolled in an undergraduate or graduate degree program focused on big data  computer science  data analytics  engineering  math  statistics  science or related degree program  preference will be given to graduate students  candidates who have completed their degree in the last six months are also encouraged to apply strong analytic and problem solving skills  including the ability to apply quantitative analysis techniques to business situations including forecasting  descriptive statistics  statistical inference  and multivariate modeling techniques experience with a good range of nlp techniques  including text processing  tokenization  pos tagging  parsing  annotation  regular expressions  language modeling  etc  ability to develop prototypes by manipulating and analyzing complex  high volume  high dimensionality data from various sources expertise in producing  processing  evaluating  and utilizing unstructured semi structured data proficiency in open source nlp and machine learning toolkits such stanford corenlp  nltk  gensim  mallet  opennlp  lingpipe  ctakes  scikit learn  numpy  libsvm  mllib  theano  tensorflow  etc  solid background in statistical learning and clustering techniques for nlp such as hmm  crf  svm  maxent  lda  lsi  and k means must have ml nlp algorithm implementation experience as well as the ability to modify standard algorithms  e g   change objective functions  work out the math  and implement practical ability to visualize data  communicate about data  and utilize data effectively proficiency in sql relational databases and or nosql databases ability to think creatively and to work well both as part of a team and as an individual contributor eager to learn new algorithms  new application areas  and new tools excellent oral and written communication skills to effectively interface and communicate with a broad array of internal and external contacts including leadership strong programming skills in at least one object oriented programming language  e g   java  python  c    scala  etc  fluency with linux unix required minimum cumulative undergraduate gpa of      deep learning in portland  or the deep learning team is looking for brilliant internship candidates in machine learning  ml  and data science with strong software engineering skills  or research background in ml  convex optimization or deep learning  the deep learning data science intern will join a team that carries out applied research in ml  it designs  develops and deploys models to serve the rest of cambia  our team has developed and applied various ml algorithms and solutions including neural networks  regression models  decision tree based algorithms  graphical and topic models and time series analyses for various healthcare problems  this team tackles hard issues in healthcare and tries to solve them by the state of the art ml techniques  if the existing methods are not good enough  then we build better ones   essential function of the deep learning data scientist internship  working with large data sets in distributed storages and designing analytical approaches understanding the concepts and building algorithms in the healthcare domain  having a broad and deep knowledge of ml methods to make contributions to the future roadmap for the healthcare problem solving platform  applying coding skills and knowledge data structures and algorithms to develop projects in partnership with other scientists   engineers in the team  adapt machine learning  e g  neural network  algorithms to best exploit modern parallel environments  e g  ec  with gpu  key qualifications and experience for the deep learning data scientist internship  recent graduate or currently enrolled in graduate degree program focused on machine learning  big data  computer science  statistics  bioinformatics  computational linguistics or other related programs   individuals who have completed their degree in the last eighteen months are also encouraged to apply   minimum     cumulative undergraduate grade point average broad and deep knowledge of machine learning  or deep learning research background  experience with modern deep learning frameworks  e g  tensorflow theano pytorch cntk   programming proficiency in python  c c    java  and or c   able to query and manipulate structured and unstructured data using sql  hadoop  spark  hive  pig   and   or scripting languages  interest and passion for deep learning and distributed representations  demonstrated ability to analyze large datasets  practical ability to visualize data  to communicate effectively about data  and to use data effectively interpersonal skills  cross group and cross culture collaboration problem solving ability and proven track record of achieving results previous software engineer experience  can be from a previous internship  work experience  coding competitions  or publications   excellent oral and written communication skills ability to think creatively  and to work well both as part of a team and as an individual contributor demonstrated ability to work with minimal direction  with the ability to coordinate complex activities product development in portland  or the data science product management intern will contribute to our team s focus on comprehensive product strategy from product conception and definition through the product lifecycle  our small agile team draws from the data science   advanced analytics background of our team members to deliver on all phases of product development from competitive market analysis and ideation  through strategy creation and execution  and ongoing monitoring and communication of implementation tactics and results   essential function of the product development data scientist internship  document initiatives with marketing  ux  engineering  data science   advanced analytics team understands the target market and primary user needs for a product assist in the timely completion of product analyses  business case development  user experience design and research  development of formal product plans  presentations  implementation of product changes new products  and coordinating development and launch activities with the data science  advanced analytics   engineering teams synthesize business requirements from multiple sources including or may include customer segments  healthcare product experts  brokers  and sales teams into requirement documents and agile project plans define the feature sets  and business requirements from multiple sources  focusing on the success criteria and the product roadmap  short term   long term  may assist with market research by working with internal teams and visits to customers and other relevant companies with an emphasis on data science   analytic solutions assist with products life cycle from planning to tactical activities to cross company go to market planning collaborates with team members to develop and deploy strategies for improving customer acquisition  engagement  and retention assist in identifying  reporting  tracking and resolving issues in a timely manner key qualifications and experience for the deep learning data scientist internship  understanding of advanced analytics  e g   statistics  simulation  optimization  and methods such as time series analysis  longitudinal studies  and life event modeling  as well as data mining methodologies  natural language processing  and machine learning algorithms  e g  regression  clustering  neural networks  kernel methods  dimensionality reduction  ensemble methods  decision tree methods  prior knowledge creating successful data driven products based on a balance of user needs  business goals  and technical constraints prior experience working with groups of diverse stakeholders  prior experience building consensus a plus practical ability to visualize data and analytical results  and excellent communication skills to effectively collaborate and communicate with a broad array of internal and external contacts excellent oral and written communication skills to effectively interface and communicate with a broad array of internal and external contacts including leadership demonstrated ability to work with minimal direction  with the ability to coordinate complex activities   obtain resources needed to move initiatives forward  in additional to the ability to work within cross functional teams knowledge of agile methodology and product management best practices a plus demonstrated excellent attention to detail including proven ability to manage multiple projects and priorities simultaneously ability to learn new technology concepts quickly  think strategically and execute methodically while working in a fast paced environment where continuous innovation is desired currently enrolled through spring      in a graduate program focused on analytics  computer science  data science  econometrics  engineering  healthcare related fields  mathematics  operations research  physics  product management  statistics  or related graduate degree program minimum     cumulative undergraduate grade point average data science clinical analytics in portland  or the data science clinical analytics intern will contribute to our team s focus on designing  developing  and implementing data driven clinical solutions using advanced statistical analyses  our small agile team draws from the background of our team members to deliver insightful expertise with the goal of delivering data driven clinical solutions across the organization   in addition to quantitative and clinical mastery  the ideal candidate will assist our team by effectively working with business partners to identify problems  design novel solutions  interpret and communicate analytical results to varied audiences  and provide analytic support for companywide process improvement efforts   essential function of the data science clinical analytics data scientist internship  research  design  develop  and implement data driven solutions using advanced statistical methods work as a key part of cross functional teams with various customer groups to study business cases  identify business problems and formulate desired outcomes and solutions assess existing and identify new sources of data relevant to the problems being investigated  apply statistical data quality procedures to new data sources generate and test working hypotheses  aggregate and mine data  conduct analyses  and extract actionable results perform data studies and discovery around new data sources or new uses for existing sources by designing and building large and complex data sets collect  measure  and interpret process performance data  using tools such as pareto charts  flow charts  process maps  cause and effect diagrams  scatter plots  histograms  and control charts perform statistical analyses with existing data sets  from results  create visual representations and summary reports of data findings in a variety of formats  create influential dashboards and presentations that use information to influence senior leadership on business trends and strategies  prepare and present regular and ad hoc analysis to internal audiences involved with decisions key qualifications and experience for the deep learning data scientist internship  strong educational background in healthcare fields experience in working with cross functional team during full project life cycle possess the ability to think creatively and demonstrate analytical skills  analyzing complex situations both alone and as part of a team  learning quickly and synthesizing solutions  options and action plans understanding of advanced analytics  e g   statistics  simulation  optimization  and methods such as time series analysis  longitudinal and cross sectional analysis  and life event modeling experience with cleaning  aggregating  and pre processing data from varied sources demonstrated ability to analyze and interpret qualitative data  research  feedback  and incorporate such insights into quantitative analyses practical ability to visualize data and analytical results  and excellent communication skills to effectively collaborate and communicate with a broad array of internal and external contacts experience with at least one statistical analytical programming tool  r  python  sas   etc   coursework or practical experience developing analytical models and algorithms demonstrated ability to apply quantitative analysis techniques to business situations including forecasting  descriptive statistics  statistical inference  and multivariate modeling techniques strong facilitation skills  including the ability to resolve issues and build consensus among groups of diverse stakeholders proven ability to provide analysis and data interpretation in support of strategy development  program implementation and evaluation currently enrolled through spring      in a graduate program focused on analytics  computer science  data science  econometrics  engineering  healthcare related fields  mathematics  operations research  physics  product management  statistics  or related graduate degree program minimum     cumulative undergraduate grade point average  about us at cambia  we advocate for transforming the health care system  you aren t satisfied with the status quo and neither are we  we re looking for individuals who are as passionate as we are about transforming the way people experience health care  we offer a competitive salary and a generous benefits package  we are an equal opportunity employer dedicated to workforce diversity and a drug and tobacco free workplace  all qualified applicants will receive consideration for employment without regard to race  color  national origin  religion  age  sex  sexual orientation  gender identity  disability  protected veteran status or any other status protected by law  a drug screen and background check is required   cambia s portfolio of companies spans health care information technology and software development  retail health care  health insurance plans that carry the blue cross and blue shield brands  pharmacy benefit management  life  disability  dental  vision and other lines of protection  alternative solutions to health care access  and free standing health and wellness solutions   we have a century of experience in developing and providing health solutions to serve our members  we had our beginnings in the logging communities of the pacific northwest as innovators in helping workers afford health care  that pioneering spirit has kept us at the forefront as we build new avenues to improve access to and quality of health care for the future\n",
            "\n",
            " 4   if you re ready to innovate and help lead the development for hewlett packard enterprise s  hpe  analytics platform  come join us now  you will be part of an organization that is revolutionizing reporting solutions and architecting a data and analytics landscape that is simplified  modern  flexible and will ultimately enable hpe on its transformation journey and beyond  job overview  we are looking for a data scientist who will support our product  sales  leadership and marketing teams with insights gained from analyzing company data  the ideal candidate is adept at using large data sets to find opportunities for product and process optimization and using models to test the effectiveness of different courses of action  they must have strong experience using a variety of data mining data analysis methods  using a variety of data tools  building and implementing models  using creating algorithms and creating running simulations  they must have a proven ability to drive business results with their data based insights  they must be comfortable working with a wide range of stakeholders and functional teams  the right candidate will have a passion for discovering solutions hidden in large data sets and working with stakeholders to improve business outcomes  responsibilities  work with stakeholders throughout the organization to identify opportunities for leveraging company data to drive business solutions  mine and analyze data from company databases to drive optimization and improvement of product development  marketing techniques and business strategies  assess the effectiveness and accuracy of new data sources and data gathering techniques  develop custom data models and algorithms to apply to data sets  use predictive modeling to increase and optimize customer experiences  revenue generation  ad targeting and other business outcomes  develop testing framework and test model quality  coordinate with different functional teams to implement models and monitor outcomes  develop processes and tools to monitor and analyze model performance and data accuracy  education and experience required  we re looking for someone with     years of experience manipulating data sets and building statistical models  has a master s or phd in statistics  mathematics  computer science or another quantitative field  and is familiar with the following software tools  coding knowledge and experience with several languages  c  c    java  javascript  etc  knowledge and experience in statistical and data mining techniques  glm regression  random forest  boosting  trees  text mining  social network analysis  etc  experience querying databases and using statistical computer languages  r  python  sql  etc  experience creating and using advanced machine learning algorithms and statistics  regression  simulation  scenario analysis  modeling  clustering  decision trees  neural networks  etc  experience with distributed data computing tools  hadoop  hive  spark  mysql  etc  experience visualizing presenting data for stakeholders experience with rapidminer is a plus knowledge and skills  strong problem solving skills with an emphasis on product development  experience using statistical computer languages  r  python  sql  etc   to manipulate data and draw insights from large data sets  knowledge of a variety of machine learning techniques  clustering  decision tree learning  artificial neural networks  etc   and their real world advantages drawbacks  knowledge of advanced statistical techniques and concepts  regression  properties of distributions  statistical tests and proper usage  etc   and experience with applications  excellent written and verbal communication skills for coordinating across teams  a drive to learn and master new technologies and techniques   li tl\n",
            "\n",
            " 5   data science encompasses the computational and statistical skills required to use data in support of scientific enquiry and sound business decision making  we are looking to hire candidates to work on challenging data science problems across our oil   gas businesses  including exploration  production  refining  chemicals  retail and corporate services  job role responsibilities apply statistical analysis  pattern recognition  and machine learning   along with domain knowledge and subject specific models   to solve science  engineering  and commercial problems  contribute to all stages of data science or decision modeling projects  including problem formulation  solution development  and product deployment  translate business relevant scientific  engineering  and commercial problems into questions that may be addressed using data science  design experiments and or run simulations to generate new data in support of analytic studies  retrieve and combine data from databases  data historians  and or data lakes  there is a strong emphasis on programming  particularly using scripting languages  perform exploratory data analysis for quality control and improved understanding  rigorously and reproducibly build  analyze  and compare statistical and or machine learning models  contextualize the results and synthesize them with existing knowledge and or domain specific models  deploy data analytic products to end users and or document data analytic results in technical reports  job requirements phd or ms  exceptional bs candidates will be considered  in one of the following disciplines  engineering sciences  mathematics  statistics or computer science with significant experience in data analytics  experience in python  scala  java  c  c   or r is required knowledge of statistics  linear algebra  multiple variable calculus  fourier analysis or machine learning experience using one or more of the following software packages  scikit learn  numpy  pandas  jupyter  matplotlib  scipy  nltk  spacy  keras  tensorflow experience solving problems using one or more of the following techniques  regression  support vector machines  decision trees  random forest  boosting  pca  kmeans experience in using sql no sql databases is an advantage experience working in linux and in a high performance computing environment is an advantage  alternate location  united states   baytown  texas    united states   clinton  new jersey    united states   hugoton  kansas  exxonmobil is an equal opportunity employer  all qualified applicants will receive consideration for employment without regard to race  color  religion  sex  sexual orientation  gender identity  national origin  protected veteran status  or disability status   nearest major market  houston  job segment  database  scientific  engineer  sql  java  technology  engineering\n"
          ]
        }
      ],
      "source": [
        "# look at a few of the most similar job descriptions to your ideal job\n",
        "# Did your query find good matches?\n",
        "# YOUR CODE HERE\n",
        "count = 0\n",
        "for most_sim_job_index in n_ind[:][0]:\n",
        "  most_sim_jobs = df.clean_text.iloc[most_sim_job_index]\n",
        "  count+=1\n",
        "  print(\"\\n\", count, \" \", most_sim_jobs)"
      ]
    },
    {
      "cell_type": "markdown",
      "metadata": {
        "id": "FiDfTWceoRkH"
      },
      "source": [
        "## Stretch Goals: do one of more of these that strike your fancy!\n",
        "\n",
        " - Repeat Part 6, but this time using spacy's word embeddings to represent documents as vectors. Remember, to form a document vector from spacy word embeddings, you average together the word embedding vectors of all the words in the document, so the document vector will have the same dimensionality as the word embeddings, namely 300 dimensions. Do you notice any difference in the results?\n",
        " - Watch Josh Starmer's video [StatQuest: Principal Component Analysis (PCA), Step-by-Step](https://www.youtube.com/watch?v=FgakZw6K1QQ). Or read [Daniela Witten's tweetstorm](https://twitter.com/womeninstat/status/1285610321747611653?lang=en) on Singular Value Decomposition (SVD). Now go back and review the section \"Can we visualize word vectors?\" from the [lecture video](https://drive.google.com/file/d/1QuwkO2Uj5sONFtqCk0_d2zrks2I6stkN/view?usp=sharing). Write a brief description of your understanding of Principal Components Analysis, and how it was used to visualize word vectors. Do your own experiments to explore relationships of words in two dimensions. Write a summary of what you discovered.\n",
        "\n",
        " - Try different visualizations for words and frequencies - what story do you want to tell with the data?\n",
        " - Scrape Job Listings for the job title \"Data Analyst\". How do these differ from Data Scientist Job Listings?\n",
        " - Try and identify requirements for experience specific technologies that are asked for in the job listings. Hint: compose a query that references a number of tech stack items. How are those items distributed among the job listings?\n",
        " - Use a clustering algorithm to cluster documents by their most important terms. Do the clusters reveal any common themes?\n",
        "  - **Hint:** K-means might not be the best algorithm for this; algorithms that depend on Euclidean distance break down with high dimensional data. Do a bit of research to see if you can identify a suitable clustering algorithm.\n",
        " - Create a labeled dataset - which jobs will you apply for? Train a model to select the jobs you are most likely to apply for."
      ]
    }
  ],
  "metadata": {
    "celltoolbar": "Create Assignment",
    "colab": {
      "provenance": []
    },
    "kernel_info": {
      "name": "python3"
    },
    "kernelspec": {
      "display_name": "py37  (Python3)",
      "language": "python",
      "name": "py37"
    },
    "language_info": {
      "codemirror_mode": {
        "name": "ipython",
        "version": 3
      },
      "file_extension": ".py",
      "mimetype": "text/x-python",
      "name": "python",
      "nbconvert_exporter": "python",
      "pygments_lexer": "ipython3",
      "version": "3.7.0"
    },
    "nteract": {
      "version": "0.14.3"
    }
  },
  "nbformat": 4,
  "nbformat_minor": 0
}